{
 "cells": [
  {
   "cell_type": "code",
   "execution_count": 1,
   "id": "916e32cc-b216-49f4-9ff4-b821c638155d",
   "metadata": {},
   "outputs": [],
   "source": [
    "import numpy as np"
   ]
  },
  {
   "cell_type": "code",
   "execution_count": 5,
   "id": "8b05780c-2eb4-4433-a729-c8489485aa0f",
   "metadata": {},
   "outputs": [],
   "source": [
    "# difference between the numbers will be constant;\n",
    "# linspace -> linearly spaced\n",
    "# (0, 20, 8) -> 8 numbers starting from 0 until 20 "
   ]
  },
  {
   "cell_type": "code",
   "execution_count": 6,
   "id": "46bc9f28-f6e7-467f-8975-c842c28cf430",
   "metadata": {},
   "outputs": [
    {
     "data": {
      "text/plain": [
       "array([0.  , 0.25, 0.5 , 0.75, 1.  ])"
      ]
     },
     "execution_count": 6,
     "metadata": {},
     "output_type": "execute_result"
    }
   ],
   "source": [
    "np.linspace(0,1,5)        #linearly spaced"
   ]
  },
  {
   "cell_type": "code",
   "execution_count": 7,
   "id": "75e9c8f7-b401-4491-8822-b8b10fe7127a",
   "metadata": {},
   "outputs": [
    {
     "data": {
      "text/plain": [
       "array([ 0.        ,  2.85714286,  5.71428571,  8.57142857, 11.42857143,\n",
       "       14.28571429, 17.14285714, 20.        ])"
      ]
     },
     "execution_count": 7,
     "metadata": {},
     "output_type": "execute_result"
    }
   ],
   "source": [
    "np.linspace(0,20,8)"
   ]
  },
  {
   "cell_type": "code",
   "execution_count": 9,
   "id": "dbae0295-e9dd-40e3-836f-936e4ac2f512",
   "metadata": {},
   "outputs": [
    {
     "data": {
      "text/plain": [
       "array([[1., 0., 0.],\n",
       "       [0., 1., 0.],\n",
       "       [0., 0., 1.]])"
      ]
     },
     "execution_count": 9,
     "metadata": {},
     "output_type": "execute_result"
    }
   ],
   "source": [
    "np.eye(3)      #identity matrix of size 3x3"
   ]
  },
  {
   "cell_type": "markdown",
   "id": "e9e480d9-ecea-45ad-b167-d199218af551",
   "metadata": {},
   "source": [
    "### Uniform distribution\n",
    "### Numbers will be ranging between 0 to 1"
   ]
  },
  {
   "cell_type": "code",
   "execution_count": 10,
   "id": "b6f8882f-0ce4-48e2-82ef-2f10f8df29fd",
   "metadata": {},
   "outputs": [
    {
     "data": {
      "text/plain": [
       "array([[0.84260374, 0.54539311],\n",
       "       [0.60286155, 0.63760316],\n",
       "       [0.71906307, 0.1913337 ]])"
      ]
     },
     "execution_count": 10,
     "metadata": {},
     "output_type": "execute_result"
    }
   ],
   "source": [
    "np.random.rand(3,2)         #3rows; 2Cols; "
   ]
  },
  {
   "cell_type": "markdown",
   "id": "74c5c3c2-ab07-4917-8614-ad65a3f713e9",
   "metadata": {},
   "source": [
    "### Normal distribution"
   ]
  },
  {
   "cell_type": "code",
   "execution_count": 13,
   "id": "0275d7f5-104e-4c03-8927-3c08057a512f",
   "metadata": {},
   "outputs": [
    {
     "data": {
      "text/plain": [
       "array([65, 62, 54, 64, 63, 39, 71, 82, 43, 77, 51, 81, 36, 54, 36, 58, 98,\n",
       "       93, 70, 40, 64, 62, 48, 47, 49, 45, 66, 66, 54, 70, 50, 70, 93, 97,\n",
       "       92, 92, 88, 45, 85, 45, 34, 38, 61, 87, 51, 71, 82, 39, 92, 37],\n",
       "      dtype=int32)"
      ]
     },
     "execution_count": 13,
     "metadata": {},
     "output_type": "execute_result"
    }
   ],
   "source": [
    "np.random.randint(34,100,50)"
   ]
  },
  {
   "cell_type": "markdown",
   "id": "00f273d1-fcc8-44f8-bb93-ba36959b973b",
   "metadata": {},
   "source": [
    "### picks a random int no. from within the given range"
   ]
  },
  {
   "cell_type": "code",
   "execution_count": 20,
   "id": "c65ab34c-79c0-47f3-95f2-86e5d1c2a6eb",
   "metadata": {},
   "outputs": [
    {
     "data": {
      "text/plain": [
       "array([ 0,  1,  2,  3,  4,  5,  6,  7,  8,  9, 10, 11, 12, 13, 14, 15, 16,\n",
       "       17, 18, 19, 20, 21, 22, 23, 24, 25, 26, 27, 28, 29])"
      ]
     },
     "execution_count": 20,
     "metadata": {},
     "output_type": "execute_result"
    }
   ],
   "source": [
    "sample_array=np.arange(30)\n",
    "sample_array"
   ]
  },
  {
   "cell_type": "code",
   "execution_count": 24,
   "id": "37c96e23-0f09-48e8-b467-2ba908968695",
   "metadata": {},
   "outputs": [
    {
     "data": {
      "text/plain": [
       "array([[ 0,  1,  2,  3,  4],\n",
       "       [ 5,  6,  7,  8,  9],\n",
       "       [10, 11, 12, 13, 14],\n",
       "       [15, 16, 17, 18, 19],\n",
       "       [20, 21, 22, 23, 24],\n",
       "       [25, 26, 27, 28, 29]])"
      ]
     },
     "execution_count": 24,
     "metadata": {},
     "output_type": "execute_result"
    }
   ],
   "source": [
    "sample_array.reshape(6,5)            #reshape sample_array to 6 rows and 5 cols"
   ]
  },
  {
   "cell_type": "code",
   "execution_count": 25,
   "id": "ecd718a9-a873-461e-8c03-270fad2b2939",
   "metadata": {},
   "outputs": [
    {
     "data": {
      "text/plain": [
       "array([[ 0,  1,  2,  3,  4,  5,  6,  7,  8,  9],\n",
       "       [10, 11, 12, 13, 14, 15, 16, 17, 18, 19],\n",
       "       [20, 21, 22, 23, 24, 25, 26, 27, 28, 29]])"
      ]
     },
     "execution_count": 25,
     "metadata": {},
     "output_type": "execute_result"
    }
   ],
   "source": [
    "sample_array.reshape(3,10)"
   ]
  },
  {
   "cell_type": "code",
   "execution_count": 26,
   "id": "4409f71c-5372-4d7f-a8ae-8000c90a102f",
   "metadata": {},
   "outputs": [
    {
     "data": {
      "text/plain": [
       "array([[ 0,  1,  2],\n",
       "       [ 3,  4,  5],\n",
       "       [ 6,  7,  8],\n",
       "       [ 9, 10, 11],\n",
       "       [12, 13, 14],\n",
       "       [15, 16, 17],\n",
       "       [18, 19, 20],\n",
       "       [21, 22, 23],\n",
       "       [24, 25, 26],\n",
       "       [27, 28, 29]])"
      ]
     },
     "execution_count": 26,
     "metadata": {},
     "output_type": "execute_result"
    }
   ],
   "source": [
    "sample_array.reshape(10,3)"
   ]
  },
  {
   "cell_type": "code",
   "execution_count": 33,
   "id": "7d1bfd13-5c5c-4b4b-af23-f9f03d063b2d",
   "metadata": {},
   "outputs": [
    {
     "data": {
      "text/plain": [
       "dtype('int64')"
      ]
     },
     "execution_count": 33,
     "metadata": {},
     "output_type": "execute_result"
    }
   ],
   "source": [
    "sample_array.dtype"
   ]
  },
  {
   "cell_type": "code",
   "execution_count": 28,
   "id": "ed273e4e-b8b9-4490-bfcb-181b57cb157d",
   "metadata": {},
   "outputs": [
    {
     "ename": "ValueError",
     "evalue": "cannot reshape array of size 30 into shape (4,7)",
     "output_type": "error",
     "traceback": [
      "\u001b[1;31m---------------------------------------------------------------------------\u001b[0m",
      "\u001b[1;31mValueError\u001b[0m                                Traceback (most recent call last)",
      "Cell \u001b[1;32mIn[28], line 1\u001b[0m\n\u001b[1;32m----> 1\u001b[0m \u001b[43msample_array\u001b[49m\u001b[38;5;241;43m.\u001b[39;49m\u001b[43mreshape\u001b[49m\u001b[43m(\u001b[49m\u001b[38;5;241;43m4\u001b[39;49m\u001b[43m,\u001b[49m\u001b[38;5;241;43m7\u001b[39;49m\u001b[43m)\u001b[49m        \u001b[38;5;66;03m#when we mul the no of rows n cols if shld always be equal to the total no of elements, else error\u001b[39;00m\n",
      "\u001b[1;31mValueError\u001b[0m: cannot reshape array of size 30 into shape (4,7)"
     ]
    }
   ],
   "source": [
    "sample_array.reshape(4,7)        #when we mul the no of rows n cols if shld always be equal to the total no of elements, else error"
   ]
  },
  {
   "cell_type": "code",
   "execution_count": 17,
   "id": "111ec4e6-5168-4ed1-9939-456567dcd0df",
   "metadata": {},
   "outputs": [
    {
     "data": {
      "text/plain": [
       "array([66, 45, 39, 44, 70, 76, 57, 81, 95, 67, 81, 87, 79, 42, 76, 56, 61,\n",
       "       69, 74, 70, 83, 90, 94, 34, 90, 42, 43, 38, 85, 56, 56, 82, 55, 55,\n",
       "       69, 84, 66, 37, 94, 64, 83, 37, 74, 85, 38, 50, 49, 82, 36, 43],\n",
       "      dtype=int32)"
      ]
     },
     "execution_count": 17,
     "metadata": {},
     "output_type": "execute_result"
    }
   ],
   "source": [
    "np.random.randint(34,100,50)"
   ]
  },
  {
   "cell_type": "code",
   "execution_count": 16,
   "id": "b984b7d8-980e-41f2-b702-2c8ee09831d8",
   "metadata": {},
   "outputs": [
    {
     "data": {
      "text/plain": [
       "78"
      ]
     },
     "execution_count": 16,
     "metadata": {},
     "output_type": "execute_result"
    }
   ],
   "source": [
    "np.random.randint(34,100)   #34 can come; 100 cannot; essentially, 34 to 99"
   ]
  },
  {
   "cell_type": "code",
   "execution_count": 18,
   "id": "bc9f876a-5386-45d7-973b-e01d7a6ab92c",
   "metadata": {},
   "outputs": [
    {
     "data": {
      "text/plain": [
       "array([67, 41, 78, 74, 71], dtype=int32)"
      ]
     },
     "execution_count": 18,
     "metadata": {},
     "output_type": "execute_result"
    }
   ],
   "source": [
    "np.random.randint(0,100,5)"
   ]
  },
  {
   "cell_type": "code",
   "execution_count": 22,
   "id": "6ea02999-af71-43a0-9819-d1a88442bffa",
   "metadata": {},
   "outputs": [
    {
     "data": {
      "text/plain": [
       "array([36, 96, 74, 36, 26,  7, 97, 51, 16, 89,  7, 23, 22, 20, 56, 53, 27,\n",
       "       71, 44, 78], dtype=int32)"
      ]
     },
     "execution_count": 22,
     "metadata": {},
     "output_type": "execute_result"
    }
   ],
   "source": [
    "rand_array=np.random.randint(0,100,20)\n",
    "rand_array"
   ]
  },
  {
   "cell_type": "code",
   "execution_count": 19,
   "id": "05a3cec7-ac60-4ca2-9485-3e04bfa25055",
   "metadata": {},
   "outputs": [
    {
     "data": {
      "text/plain": [
       "array([84], dtype=int32)"
      ]
     },
     "execution_count": 19,
     "metadata": {},
     "output_type": "execute_result"
    }
   ],
   "source": [
    "np.random.randint(1,100,1)"
   ]
  },
  {
   "cell_type": "code",
   "execution_count": 12,
   "id": "ad52d37e-46f8-4cff-8b58-f68d3c47b49d",
   "metadata": {},
   "outputs": [
    {
     "data": {
      "text/plain": [
       "array([[ 0.34763595, -1.12520222],\n",
       "       [ 1.32510164,  2.77443894],\n",
       "       [ 0.1679761 ,  2.22252477]])"
      ]
     },
     "execution_count": 12,
     "metadata": {},
     "output_type": "execute_result"
    }
   ],
   "source": [
    "np.random.randn(3,2)           #n->negative"
   ]
  },
  {
   "cell_type": "code",
   "execution_count": 30,
   "id": "3c40f082-8f92-45e5-afe1-1931aee6786b",
   "metadata": {},
   "outputs": [
    {
     "data": {
      "text/plain": [
       "np.int32(7)"
      ]
     },
     "execution_count": 30,
     "metadata": {},
     "output_type": "execute_result"
    }
   ],
   "source": [
    "rand_array.min()   #minimum value in the list rand_array"
   ]
  },
  {
   "cell_type": "code",
   "execution_count": 31,
   "id": "ec3807d1-14ea-491f-b532-0c10a0b0aa3f",
   "metadata": {},
   "outputs": [
    {
     "data": {
      "text/plain": [
       "np.int64(5)"
      ]
     },
     "execution_count": 31,
     "metadata": {},
     "output_type": "execute_result"
    }
   ],
   "source": [
    "rand_array.argmin()        #index of the minimum value"
   ]
  },
  {
   "cell_type": "code",
   "execution_count": 35,
   "id": "2b1c35eb-4bb0-4036-b97c-f4196a104498",
   "metadata": {},
   "outputs": [
    {
     "data": {
      "text/plain": [
       "array([[1., 0., 0., 0., 0.],\n",
       "       [0., 1., 0., 0., 0.],\n",
       "       [0., 0., 1., 0., 0.],\n",
       "       [0., 0., 0., 1., 0.],\n",
       "       [0., 0., 0., 0., 1.]])"
      ]
     },
     "execution_count": 35,
     "metadata": {},
     "output_type": "execute_result"
    }
   ],
   "source": [
    "a=np.eye(5)          #identity matrix of size 5x5\n",
    "a"
   ]
  },
  {
   "cell_type": "code",
   "execution_count": 36,
   "id": "ad08f657-f400-4e06-aea1-6562d161ad51",
   "metadata": {},
   "outputs": [
    {
     "data": {
      "text/plain": [
       "array([[1., 0., 0., 0., 0.],\n",
       "       [0., 1., 0., 0., 0.],\n",
       "       [0., 0., 1., 0., 0.],\n",
       "       [0., 0., 0., 1., 0.],\n",
       "       [0., 0., 0., 0., 1.]])"
      ]
     },
     "execution_count": 36,
     "metadata": {},
     "output_type": "execute_result"
    }
   ],
   "source": [
    "a.T             #identity, diagonal matrix -> transpose -> identity, diagonal matrix"
   ]
  },
  {
   "cell_type": "code",
   "execution_count": 41,
   "id": "ce64c9c7-ee59-43a5-a187-660d7772281e",
   "metadata": {},
   "outputs": [],
   "source": [
    "a=np.random.rand(2,3) #uniform distribution -> range of numbers -> 0 to 1"
   ]
  },
  {
   "cell_type": "code",
   "execution_count": 39,
   "id": "11363f17-75dc-4161-9653-399c3a509849",
   "metadata": {},
   "outputs": [
    {
     "data": {
      "text/plain": [
       "array([[0.88744474, 0.23851123, 0.57867451],\n",
       "       [0.54644867, 0.80679416, 0.98194444]])"
      ]
     },
     "execution_count": 39,
     "metadata": {},
     "output_type": "execute_result"
    }
   ],
   "source": [
    "a"
   ]
  },
  {
   "cell_type": "code",
   "execution_count": 40,
   "id": "9a386bf5-4768-4f47-9bb3-3dae2e0ae891",
   "metadata": {},
   "outputs": [
    {
     "data": {
      "text/plain": [
       "array([[0.88744474, 0.54644867],\n",
       "       [0.23851123, 0.80679416],\n",
       "       [0.57867451, 0.98194444]])"
      ]
     },
     "execution_count": 40,
     "metadata": {},
     "output_type": "execute_result"
    }
   ],
   "source": [
    "a.T"
   ]
  },
  {
   "cell_type": "code",
   "execution_count": 42,
   "id": "0557bdbd-b2ec-436d-ab0b-c5eab8837927",
   "metadata": {},
   "outputs": [],
   "source": [
    "sample_array=np.arange(10,21)    # range-> 10 to 20"
   ]
  },
  {
   "cell_type": "code",
   "execution_count": 43,
   "id": "e35d40ea-b71a-4eb3-8d99-0d9f1c0e4504",
   "metadata": {},
   "outputs": [
    {
     "data": {
      "text/plain": [
       "array([10, 11, 12, 13, 14, 15, 16, 17, 18, 19, 20])"
      ]
     },
     "execution_count": 43,
     "metadata": {},
     "output_type": "execute_result"
    }
   ],
   "source": [
    "sample_array"
   ]
  },
  {
   "cell_type": "code",
   "execution_count": 44,
   "id": "f26a0f99-8205-4fdf-b0fb-392ee9377315",
   "metadata": {},
   "outputs": [
    {
     "data": {
      "text/plain": [
       "np.int64(13)"
      ]
     },
     "execution_count": 44,
     "metadata": {},
     "output_type": "execute_result"
    }
   ],
   "source": [
    "sample_array[3]"
   ]
  },
  {
   "cell_type": "code",
   "execution_count": 46,
   "id": "24e8b76b-b629-477c-aa08-83dd050b9a88",
   "metadata": {},
   "outputs": [
    {
     "data": {
      "text/plain": [
       "array([13, 14, 15, 16])"
      ]
     },
     "execution_count": 46,
     "metadata": {},
     "output_type": "execute_result"
    }
   ],
   "source": [
    "sample_array[3:7]    #index 3,4,5,6 elements"
   ]
  },
  {
   "cell_type": "code",
   "execution_count": 47,
   "id": "d011f7a4-708e-474a-a55f-7708d43bfc4b",
   "metadata": {},
   "outputs": [
    {
     "data": {
      "text/plain": [
       "array([10, 11, 12, 13, 14, 15, 16, 17, 18, 19, 20])"
      ]
     },
     "execution_count": 47,
     "metadata": {},
     "output_type": "execute_result"
    }
   ],
   "source": [
    "sample_array"
   ]
  },
  {
   "cell_type": "code",
   "execution_count": 48,
   "id": "ed160443-520b-4dec-86ef-c8f1edb1fe70",
   "metadata": {},
   "outputs": [
    {
     "data": {
      "text/plain": [
       "array([ 10, 100, 100, 100,  14,  15,  16,  17,  18,  19,  20])"
      ]
     },
     "execution_count": 48,
     "metadata": {},
     "output_type": "execute_result"
    }
   ],
   "source": [
    "sample_array[1:4]=100\n",
    "sample_array"
   ]
  },
  {
   "cell_type": "code",
   "execution_count": 49,
   "id": "ff05af39-a101-468a-bcaf-69a9535a4f16",
   "metadata": {},
   "outputs": [
    {
     "data": {
      "text/plain": [
       "array([10, 11, 12, 13, 14, 15, 16, 17, 18, 19, 20])"
      ]
     },
     "execution_count": 49,
     "metadata": {},
     "output_type": "execute_result"
    }
   ],
   "source": [
    "sample_array=np.arange(10,21)\n",
    "sample_array"
   ]
  },
  {
   "cell_type": "code",
   "execution_count": 50,
   "id": "33970ec5-a3a2-4e39-b99f-4cebbbbdaaad",
   "metadata": {},
   "outputs": [
    {
     "data": {
      "text/plain": [
       "array([10, 11, 12, 13, 14, 15, 16])"
      ]
     },
     "execution_count": 50,
     "metadata": {},
     "output_type": "execute_result"
    }
   ],
   "source": [
    "sample_array[0:7]"
   ]
  },
  {
   "cell_type": "code",
   "execution_count": 51,
   "id": "6f482fac-cb65-46b3-8648-03576d082f59",
   "metadata": {},
   "outputs": [
    {
     "data": {
      "text/plain": [
       "array([10, 11, 12, 13, 14, 15, 16])"
      ]
     },
     "execution_count": 51,
     "metadata": {},
     "output_type": "execute_result"
    }
   ],
   "source": [
    "subset_sample_array=sample_array[0:7]\n",
    "subset_sample_array"
   ]
  },
  {
   "cell_type": "code",
   "execution_count": 52,
   "id": "258b4b29-6478-4080-9902-f64fe60a5f8c",
   "metadata": {},
   "outputs": [
    {
     "data": {
      "text/plain": [
       "array([ 10, 100, 100, 100,  14,  15,  16])"
      ]
     },
     "execution_count": 52,
     "metadata": {},
     "output_type": "execute_result"
    }
   ],
   "source": [
    "subset_sample_array[1:4]=100\n",
    "subset_sample_array"
   ]
  }
 ],
 "metadata": {
  "kernelspec": {
   "display_name": "Python 3 (ipykernel)",
   "language": "python",
   "name": "python3"
  },
  "language_info": {
   "codemirror_mode": {
    "name": "ipython",
    "version": 3
   },
   "file_extension": ".py",
   "mimetype": "text/x-python",
   "name": "python",
   "nbconvert_exporter": "python",
   "pygments_lexer": "ipython3",
   "version": "3.12.5"
  }
 },
 "nbformat": 4,
 "nbformat_minor": 5
}
