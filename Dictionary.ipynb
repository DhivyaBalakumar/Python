{
 "cells": [
  {
   "cell_type": "markdown",
   "id": "ca475232-240b-4a95-a934-cd0e9e9d0963",
   "metadata": {},
   "source": [
    "### Dictionary"
   ]
  },
  {
   "cell_type": "code",
   "execution_count": 1,
   "id": "b5d5fa62-e69b-41ea-9b15-e8983ef6eda9",
   "metadata": {},
   "outputs": [
    {
     "name": "stdout",
     "output_type": "stream",
     "text": [
      "{1: 'Fourth', 2: 'First', 3: 'Third'}\n"
     ]
    }
   ],
   "source": [
    "dict_1={1:\"First\",2:\"First\",3:\"Third\",1:\"Fourth\"}\n",
    "print(dict_1)"
   ]
  },
  {
   "cell_type": "code",
   "execution_count": 2,
   "id": "c3347309-4583-4e94-b562-1e4b7276f02f",
   "metadata": {},
   "outputs": [
    {
     "data": {
      "text/plain": [
       "'First'"
      ]
     },
     "execution_count": 2,
     "metadata": {},
     "output_type": "execute_result"
    }
   ],
   "source": [
    "dict_1[2]"
   ]
  },
  {
   "cell_type": "code",
   "execution_count": 3,
   "id": "89ce6c04-df02-4da7-9730-97b2ff12501f",
   "metadata": {},
   "outputs": [],
   "source": [
    "dict_1[2]=\"Seventh\""
   ]
  },
  {
   "cell_type": "code",
   "execution_count": 4,
   "id": "4cfe15ab-0ded-4db6-ab51-095b609037c6",
   "metadata": {},
   "outputs": [
    {
     "name": "stdout",
     "output_type": "stream",
     "text": [
      "{1: 'Fourth', 2: 'Seventh', 3: 'Third'}\n"
     ]
    }
   ],
   "source": [
    "print(dict_1)"
   ]
  },
  {
   "cell_type": "code",
   "execution_count": 5,
   "id": "a4a002b2-0b9b-4b3e-b3d6-cb9e6e564321",
   "metadata": {},
   "outputs": [],
   "source": [
    "del dict_1[2]"
   ]
  },
  {
   "cell_type": "code",
   "execution_count": 6,
   "id": "5f8ae6b4-a775-4dd2-972d-1f75147164d6",
   "metadata": {},
   "outputs": [
    {
     "name": "stdout",
     "output_type": "stream",
     "text": [
      "{1: 'Fourth', 3: 'Third'}\n"
     ]
    }
   ],
   "source": [
    "print(dict_1)"
   ]
  },
  {
   "cell_type": "markdown",
   "id": "60d7669e-81ed-438f-85f2-34519bfc144f",
   "metadata": {},
   "source": [
    "### Word count"
   ]
  },
  {
   "cell_type": "code",
   "execution_count": 7,
   "id": "6c354a82-28e7-46e6-af85-3d37df1beefb",
   "metadata": {},
   "outputs": [
    {
     "name": "stdout",
     "output_type": "stream",
     "text": [
      "{'can': 6, 'you': 1, 'a': 3, 'as': 1, 'canner': 1}\n"
     ]
    }
   ],
   "source": [
    "twister=\"can you can a can as a canner can can a can\"\n",
    "word_count={}\n",
    "for word in twister.split():\n",
    "    if word not in word_count:\n",
    "        word_count[word]=1\n",
    "    else:\n",
    "        word_count[word]+=1\n",
    "print(word_count)\n",
    "            "
   ]
  },
  {
   "cell_type": "markdown",
   "id": "218bcbce-b80c-4042-9a9e-779c35a8e636",
   "metadata": {},
   "source": [
    "### default dictionary"
   ]
  },
  {
   "cell_type": "code",
   "execution_count": 8,
   "id": "8550fb09-b92b-4397-89fd-f151a75998e3",
   "metadata": {},
   "outputs": [],
   "source": [
    "from collections import defaultdict"
   ]
  },
  {
   "cell_type": "code",
   "execution_count": 9,
   "id": "96c90cbd-c026-4ff6-adf2-6e54587d536f",
   "metadata": {},
   "outputs": [],
   "source": [
    "word_count=defaultdict(int)\n",
    "for word in twister.split():\n",
    "    word_count[word]+=1"
   ]
  },
  {
   "cell_type": "code",
   "execution_count": 10,
   "id": "b5978767-28b2-4b46-a6b2-45d9a2a39e32",
   "metadata": {},
   "outputs": [
    {
     "data": {
      "text/plain": [
       "defaultdict(int, {'can': 6, 'you': 1, 'a': 3, 'as': 1, 'canner': 1})"
      ]
     },
     "execution_count": 10,
     "metadata": {},
     "output_type": "execute_result"
    }
   ],
   "source": [
    "word_count"
   ]
  },
  {
   "cell_type": "code",
   "execution_count": 11,
   "id": "f72e2719-8121-43a6-8b27-5e6bfdd3d0f5",
   "metadata": {},
   "outputs": [
    {
     "data": {
      "text/plain": [
       "2"
      ]
     },
     "execution_count": 11,
     "metadata": {},
     "output_type": "execute_result"
    }
   ],
   "source": [
    "len(dict_1)"
   ]
  },
  {
   "cell_type": "code",
   "execution_count": 12,
   "id": "0fcf1fd8-905c-44be-8f18-3df6b7c642bd",
   "metadata": {},
   "outputs": [
    {
     "data": {
      "text/plain": [
       "dict_keys([1, 3])"
      ]
     },
     "execution_count": 12,
     "metadata": {},
     "output_type": "execute_result"
    }
   ],
   "source": [
    "dict_1.keys()"
   ]
  },
  {
   "cell_type": "code",
   "execution_count": 13,
   "id": "b9197d2c-a564-41d1-9c24-b2686164b139",
   "metadata": {},
   "outputs": [
    {
     "data": {
      "text/plain": [
       "dict_values(['Fourth', 'Third'])"
      ]
     },
     "execution_count": 13,
     "metadata": {},
     "output_type": "execute_result"
    }
   ],
   "source": [
    "dict_1.values()"
   ]
  },
  {
   "cell_type": "code",
   "execution_count": 14,
   "id": "147f4fd5-cc40-400f-ae57-9b34d95feb6d",
   "metadata": {},
   "outputs": [
    {
     "data": {
      "text/plain": [
       "dict_items([(1, 'Fourth'), (3, 'Third')])"
      ]
     },
     "execution_count": 14,
     "metadata": {},
     "output_type": "execute_result"
    }
   ],
   "source": [
    "dict_1.items()"
   ]
  },
  {
   "cell_type": "code",
   "execution_count": 15,
   "id": "7fecd404-6146-49ab-aa4a-03f1c1066a74",
   "metadata": {},
   "outputs": [
    {
     "data": {
      "text/plain": [
       "'Third'"
      ]
     },
     "execution_count": 15,
     "metadata": {},
     "output_type": "execute_result"
    }
   ],
   "source": [
    "dict_1.get(3)"
   ]
  },
  {
   "cell_type": "code",
   "execution_count": 16,
   "id": "1d74d3e4-a1be-4f3d-81a6-8f2f3e91342c",
   "metadata": {},
   "outputs": [
    {
     "data": {
      "text/plain": [
       "{1: 'Fourth', 3: 'Third'}"
      ]
     },
     "execution_count": 16,
     "metadata": {},
     "output_type": "execute_result"
    }
   ],
   "source": [
    "dict_1"
   ]
  },
  {
   "cell_type": "code",
   "execution_count": 17,
   "id": "016c14dc-0aac-49bb-9685-d3377b58cd32",
   "metadata": {},
   "outputs": [
    {
     "data": {
      "text/plain": [
       "{1: 'Fourth', 3: 'Third', 10: 'Tenth'}"
      ]
     },
     "execution_count": 17,
     "metadata": {},
     "output_type": "execute_result"
    }
   ],
   "source": [
    "dict_1.setdefault(10,\"Tenth\")\n",
    "dict_1"
   ]
  }
 ],
 "metadata": {
  "kernelspec": {
   "display_name": "Python 3 (ipykernel)",
   "language": "python",
   "name": "python3"
  },
  "language_info": {
   "codemirror_mode": {
    "name": "ipython",
    "version": 3
   },
   "file_extension": ".py",
   "mimetype": "text/x-python",
   "name": "python",
   "nbconvert_exporter": "python",
   "pygments_lexer": "ipython3",
   "version": "3.12.5"
  }
 },
 "nbformat": 4,
 "nbformat_minor": 5
}
