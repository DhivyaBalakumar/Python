{
 "cells": [
  {
   "cell_type": "markdown",
   "id": "1a46bfdc-1d5c-4548-876e-ad7a419bff80",
   "metadata": {},
   "source": [
    "### Conditionsatement"
   ]
  },
  {
   "cell_type": "markdown",
   "id": "de8d4eb6-6ed6-4461-8e7b-e63787ed7361",
   "metadata": {},
   "source": [
    "### If statement"
   ]
  },
  {
   "cell_type": "code",
   "execution_count": 1,
   "id": "98d71ef0-edae-4077-9fd4-3e9be25d024e",
   "metadata": {},
   "outputs": [],
   "source": [
    "a=50\n",
    "b=100\n",
    "if a>b:\n",
    "    print(\"a is greater than b\")   ### No output-Nothing is defined for False Statement"
   ]
  },
  {
   "cell_type": "code",
   "execution_count": 2,
   "id": "7dcee694-b4c3-496f-99b1-0a966814384e",
   "metadata": {},
   "outputs": [
    {
     "name": "stdout",
     "output_type": "stream",
     "text": [
      "a is greater than b\n"
     ]
    }
   ],
   "source": [
    "a=150\n",
    "b=100\n",
    "if a>b:\n",
    "    print(\"a is greater than b\") ### True-So there is output"
   ]
  },
  {
   "cell_type": "code",
   "execution_count": 3,
   "id": "96d10ed3-58da-45ec-be56-92e5b24cecc2",
   "metadata": {},
   "outputs": [
    {
     "name": "stdout",
     "output_type": "stream",
     "text": [
      "b is greater\n"
     ]
    }
   ],
   "source": [
    "a=34\n",
    "b=56\n",
    "if a>b:\n",
    "    print(\"a is greater\")\n",
    "else:\n",
    "    print(\"b is greater\")"
   ]
  },
  {
   "cell_type": "code",
   "execution_count": 4,
   "id": "6cff398a-c162-4217-9eb2-3af9e4cbf3d0",
   "metadata": {},
   "outputs": [
    {
     "name": "stdin",
     "output_type": "stream",
     "text": [
      "Enter the password: Hello\n"
     ]
    },
    {
     "name": "stdout",
     "output_type": "stream",
     "text": [
      "Welcome to Home!\n"
     ]
    }
   ],
   "source": [
    "x=str(input('Enter the password:'))\n",
    "if x=='Hello':\n",
    "    print('Welcome to Home!')\n",
    "else:\n",
    "        print('incorrect password')"
   ]
  },
  {
   "cell_type": "code",
   "execution_count": 5,
   "id": "566c5f08-d3d3-4e68-877c-7dcb800df4fd",
   "metadata": {},
   "outputs": [
    {
     "name": "stdout",
     "output_type": "stream",
     "text": [
      "8 is greater than zero\n"
     ]
    }
   ],
   "source": [
    "num=8\n",
    "if(num>0):\n",
    "    print(num,\"is greater than zero\")\n",
    "else:\n",
    "    print(num,\"is less than zero\")"
   ]
  },
  {
   "cell_type": "code",
   "execution_count": 6,
   "id": "965741c9-ead1-41d7-8c85-2e6d68b120be",
   "metadata": {},
   "outputs": [
    {
     "name": "stdout",
     "output_type": "stream",
     "text": [
      "Less than average marks\n"
     ]
    }
   ],
   "source": [
    "math = 10\n",
    "sci = 20\n",
    "eng =15\n",
    "\n",
    "if((math + sci + eng)/3 <= 35):\n",
    "    print(\"Less than average marks\")\n",
    "else:\n",
    "    print(\"Average score is: \", (math+sci+eng)/3)"
   ]
  },
  {
   "cell_type": "code",
   "execution_count": 7,
   "id": "56898216-d903-4938-8783-54d8f1602fff",
   "metadata": {},
   "outputs": [
    {
     "name": "stdout",
     "output_type": "stream",
     "text": [
      "-5 is less than zero\n"
     ]
    }
   ],
   "source": [
    "### check if a number is greater than zero\n",
    "num=-5\n",
    "if(num>0):\n",
    "    print(num,\"is greater than zero\")\n",
    "else:\n",
    "    print(num,\"is less than zero\")"
   ]
  }
 ],
 "metadata": {
  "kernelspec": {
   "display_name": "Python 3 (ipykernel)",
   "language": "python",
   "name": "python3"
  },
  "language_info": {
   "codemirror_mode": {
    "name": "ipython",
    "version": 3
   },
   "file_extension": ".py",
   "mimetype": "text/x-python",
   "name": "python",
   "nbconvert_exporter": "python",
   "pygments_lexer": "ipython3",
   "version": "3.12.5"
  }
 },
 "nbformat": 4,
 "nbformat_minor": 5
}
