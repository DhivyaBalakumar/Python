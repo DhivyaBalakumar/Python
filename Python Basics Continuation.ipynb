{
 "cells": [
  {
   "cell_type": "markdown",
   "id": "daddf0ad",
   "metadata": {},
   "source": [
    "### Variables"
   ]
  },
  {
   "cell_type": "code",
   "execution_count": 1,
   "id": "9f8d2e56",
   "metadata": {},
   "outputs": [],
   "source": [
    "### Variable names can have alphabets ranging from a-z and A-Z\n",
    "### Variables should not start with a number \n",
    "### Variables cannot have any special character apart from _"
   ]
  },
  {
   "cell_type": "markdown",
   "id": "defc9b6c",
   "metadata": {},
   "source": [
    "### Tuple "
   ]
  },
  {
   "cell_type": "code",
   "execution_count": null,
   "id": "468b42d3",
   "metadata": {},
   "outputs": [],
   "source": [
    "### Heterogenous \n",
    "### Parenthesis\n",
    "### Can retrieve elements using the index \n",
    "### Immutable \n",
    "### Elements that are present without being enclosed in any brackets are tuples "
   ]
  },
  {
   "cell_type": "code",
   "execution_count": 2,
   "id": "14e6c8f8",
   "metadata": {},
   "outputs": [
    {
     "data": {
      "text/plain": [
       "(1, 'hi', 11.11, 12, 1)"
      ]
     },
     "execution_count": 2,
     "metadata": {},
     "output_type": "execute_result"
    }
   ],
   "source": [
    "sample_tuple= (1, \"hi\", 11.11, 12, 1)\n",
    "sample_tuple"
   ]
  },
  {
   "cell_type": "code",
   "execution_count": 3,
   "id": "789fb474",
   "metadata": {},
   "outputs": [
    {
     "data": {
      "text/plain": [
       "tuple"
      ]
     },
     "execution_count": 3,
     "metadata": {},
     "output_type": "execute_result"
    }
   ],
   "source": [
    "type(sample_tuple)"
   ]
  },
  {
   "cell_type": "markdown",
   "id": "178020f1",
   "metadata": {},
   "source": [
    "### Set"
   ]
  },
  {
   "cell_type": "code",
   "execution_count": null,
   "id": "8e3070d6",
   "metadata": {},
   "outputs": [],
   "source": [
    "### curly brackets\n",
    "### elements are re-arranged\n",
    "### all strings are pushed to one side- the end \n",
    "### no duplicates are there in the output set\n",
    "### i.e even if the same element is entered twice, it appears only once in the output set\n",
    "### the numbers are arranged according to the first place\n",
    "### like all 1s first then the numbers that begin with 2, then 3 etc.\n",
    "### string datatypes- alphabetical order\n",
    "### elements cant be retrieved using index\n",
    "### LIST AND TUPLE ELEMENTS CAN BE RETRIEVED USING INDEX\n",
    "### not mutable USING INDEX; BUT MUTABLE \n",
    "### fns like .add etc work\n",
    "### elements can be added and removed from the set so its mutable;\n",
    "### only point being that its not possible with index"
   ]
  },
  {
   "cell_type": "code",
   "execution_count": 24,
   "id": "4d52a0a4",
   "metadata": {},
   "outputs": [
    {
     "data": {
      "text/plain": [
       "{1, '10', 12, 9, 9.8, 'apple', 'hi'}"
      ]
     },
     "execution_count": 24,
     "metadata": {},
     "output_type": "execute_result"
    }
   ],
   "source": [
    "sample_set= {1, 9.8, \"hi\", 12, 1, 9,\"10\", \"apple\"}\n",
    "sample_set "
   ]
  },
  {
   "cell_type": "code",
   "execution_count": 23,
   "id": "6a44d4ae",
   "metadata": {},
   "outputs": [
    {
     "ename": "TypeError",
     "evalue": "'set' object is not subscriptable",
     "output_type": "error",
     "traceback": [
      "\u001b[1;31m---------------------------------------------------------------------------\u001b[0m",
      "\u001b[1;31mTypeError\u001b[0m                                 Traceback (most recent call last)",
      "\u001b[1;32m~\\AppData\\Local\\Temp\\ipykernel_5316\\3254054574.py\u001b[0m in \u001b[0;36m<module>\u001b[1;34m\u001b[0m\n\u001b[1;32m----> 1\u001b[1;33m \u001b[0msample_set\u001b[0m\u001b[1;33m[\u001b[0m\u001b[1;36m1\u001b[0m\u001b[1;33m]\u001b[0m\u001b[1;33m\u001b[0m\u001b[1;33m\u001b[0m\u001b[0m\n\u001b[0m",
      "\u001b[1;31mTypeError\u001b[0m: 'set' object is not subscriptable"
     ]
    }
   ],
   "source": [
    "sample_set[1]"
   ]
  },
  {
   "cell_type": "code",
   "execution_count": 21,
   "id": "29775891",
   "metadata": {},
   "outputs": [
    {
     "ename": "TypeError",
     "evalue": "'set' object is not subscriptable",
     "output_type": "error",
     "traceback": [
      "\u001b[1;31m---------------------------------------------------------------------------\u001b[0m",
      "\u001b[1;31mTypeError\u001b[0m                                 Traceback (most recent call last)",
      "\u001b[1;32m~\\AppData\\Local\\Temp\\ipykernel_5316\\3427908440.py\u001b[0m in \u001b[0;36m<module>\u001b[1;34m\u001b[0m\n\u001b[1;32m----> 1\u001b[1;33m \u001b[0msample_set\u001b[0m\u001b[1;33m[\u001b[0m\u001b[1;36m0\u001b[0m\u001b[1;33m]\u001b[0m\u001b[1;33m\u001b[0m\u001b[1;33m\u001b[0m\u001b[0m\n\u001b[0m",
      "\u001b[1;31mTypeError\u001b[0m: 'set' object is not subscriptable"
     ]
    }
   ],
   "source": [
    "sample_set[0]"
   ]
  },
  {
   "cell_type": "code",
   "execution_count": 16,
   "id": "f3c44bf9",
   "metadata": {},
   "outputs": [
    {
     "ename": "TypeError",
     "evalue": "'set' object does not support item assignment",
     "output_type": "error",
     "traceback": [
      "\u001b[1;31m---------------------------------------------------------------------------\u001b[0m",
      "\u001b[1;31mTypeError\u001b[0m                                 Traceback (most recent call last)",
      "\u001b[1;32m~\\AppData\\Local\\Temp\\ipykernel_5316\\1875532254.py\u001b[0m in \u001b[0;36m<module>\u001b[1;34m\u001b[0m\n\u001b[1;32m----> 1\u001b[1;33m \u001b[0msample_set\u001b[0m\u001b[1;33m[\u001b[0m\u001b[1;36m0\u001b[0m\u001b[1;33m]\u001b[0m\u001b[1;33m=\u001b[0m\u001b[1;36m100\u001b[0m\u001b[1;33m\u001b[0m\u001b[1;33m\u001b[0m\u001b[0m\n\u001b[0m",
      "\u001b[1;31mTypeError\u001b[0m: 'set' object does not support item assignment"
     ]
    }
   ],
   "source": [
    "sample_set[0]=100"
   ]
  },
  {
   "cell_type": "code",
   "execution_count": 14,
   "id": "135cae88",
   "metadata": {},
   "outputs": [
    {
     "data": {
      "text/plain": [
       "{1, '10', 1000, 12, 9, 9.8, 'apple', 'hi'}"
      ]
     },
     "execution_count": 14,
     "metadata": {},
     "output_type": "execute_result"
    }
   ],
   "source": [
    "sample_set.add(1000)\n",
    "sample_set"
   ]
  },
  {
   "cell_type": "code",
   "execution_count": 15,
   "id": "74f67ce4",
   "metadata": {},
   "outputs": [
    {
     "data": {
      "text/plain": [
       "{1, '10', 1000, 12, 9, 9.8, 'apple'}"
      ]
     },
     "execution_count": 15,
     "metadata": {},
     "output_type": "execute_result"
    }
   ],
   "source": [
    "sample_set.remove(\"hi\")\n",
    "sample_set"
   ]
  },
  {
   "cell_type": "markdown",
   "id": "e8535c96",
   "metadata": {},
   "source": [
    "### Dictionary "
   ]
  },
  {
   "cell_type": "code",
   "execution_count": null,
   "id": "1370993c",
   "metadata": {},
   "outputs": [],
   "source": [
    "### Dictionary is charecterised by both flower brackets and elements in the form of key value pair\n",
    "### follows key value pair data structure\n",
    "### KEY VALUES/ELEMENTS ARE UNIQUE\n",
    "### values is/are not/need not be unique\n",
    "### key unique, values can be duplicated\n",
    "### in duplicate entries for key is present; only the LATEST one is considered \n",
    "### element present before colon(:) are called keys, the other called value\n",
    "### there will be no duplicate entries in the output dict.\n",
    "### values can be accessed using the key elements;but the vice vers is not possible "
   ]
  },
  {
   "cell_type": "code",
   "execution_count": 3,
   "id": "df4dd920",
   "metadata": {},
   "outputs": [
    {
     "data": {
      "text/plain": [
       "{1: 'apple', 2: 'hi', 3: 'data', 6: 35.4, 7: 35.4}"
      ]
     },
     "execution_count": 3,
     "metadata": {},
     "output_type": "execute_result"
    }
   ],
   "source": [
    "sample_dict= {1:\"apple\", 2:35.4, 3:\"data\" , 2:\"every\", 6:35.4, 7:35.4, 2:\"hi\"}\n",
    "sample_dict"
   ]
  },
  {
   "cell_type": "code",
   "execution_count": 4,
   "id": "a2ffbf2e",
   "metadata": {},
   "outputs": [
    {
     "data": {
      "text/plain": [
       "'hi'"
      ]
     },
     "execution_count": 4,
     "metadata": {},
     "output_type": "execute_result"
    }
   ],
   "source": [
    "sample_dict[2]                       #latest value for duplicated key "
   ]
  },
  {
   "cell_type": "code",
   "execution_count": 5,
   "id": "46ff169b",
   "metadata": {},
   "outputs": [
    {
     "data": {
      "text/plain": [
       "'data'"
      ]
     },
     "execution_count": 5,
     "metadata": {},
     "output_type": "execute_result"
    }
   ],
   "source": [
    "sample_dict[3]                       #latest value for duplicated key"
   ]
  },
  {
   "cell_type": "code",
   "execution_count": 7,
   "id": "a3e28ee4",
   "metadata": {},
   "outputs": [],
   "source": [
    "sample_dict[7]=100"
   ]
  },
  {
   "cell_type": "code",
   "execution_count": 8,
   "id": "04cb3b45",
   "metadata": {},
   "outputs": [
    {
     "data": {
      "text/plain": [
       "{1: 'apple', 2: 'hi', 3: 'data', 6: 35.4, 7: 100}"
      ]
     },
     "execution_count": 8,
     "metadata": {},
     "output_type": "execute_result"
    }
   ],
   "source": [
    "sample_dict             #mutable using index"
   ]
  },
  {
   "cell_type": "code",
   "execution_count": 9,
   "id": "d1c320df",
   "metadata": {},
   "outputs": [
    {
     "data": {
      "text/plain": [
       "{1: 'apple', 2: 'hi', 3: 'data', 6: 35.4, 7: 100, 10: 'Business'}"
      ]
     },
     "execution_count": 9,
     "metadata": {},
     "output_type": "execute_result"
    }
   ],
   "source": [
    "sample_dict[10]=\"Business\"\n",
    "sample_dict"
   ]
  },
  {
   "cell_type": "code",
   "execution_count": null,
   "id": "605ccbd4",
   "metadata": {},
   "outputs": [],
   "source": []
  }
 ],
 "metadata": {
  "kernelspec": {
   "display_name": "Python 3 (ipykernel)",
   "language": "python",
   "name": "python3"
  },
  "language_info": {
   "codemirror_mode": {
    "name": "ipython",
    "version": 3
   },
   "file_extension": ".py",
   "mimetype": "text/x-python",
   "name": "python",
   "nbconvert_exporter": "python",
   "pygments_lexer": "ipython3",
   "version": "3.7.8"
  }
 },
 "nbformat": 4,
 "nbformat_minor": 5
}
