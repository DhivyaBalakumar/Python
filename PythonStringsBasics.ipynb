{
 "cells": [
  {
   "cell_type": "markdown",
   "id": "2d30aa89",
   "metadata": {},
   "source": [
    "### What are Strings"
   ]
  },
  {
   "cell_type": "markdown",
   "id": "1a70b146",
   "metadata": {},
   "source": [
    "###The following example shows a string contained within 2 quotation marks:\n",
    "###Use quotation marks for defining string\n",
    "###\"Michael Jackson\""
   ]
  },
  {
   "cell_type": "markdown",
   "id": "709a47e1",
   "metadata": {},
   "source": [
    "###We can also use single quotation marks\n",
    "####Use single quotation marks for defining string\n",
    "###'Michael Jackson'"
   ]
  },
  {
   "cell_type": "markdown",
   "id": "24ebd76f",
   "metadata": {},
   "source": [
    "###A string can be a combination of spaces and digits:\n",
    "###Digitals and spaces in string\n",
    "\n",
    "'1 2 3 4 5 6 '"
   ]
  },
  {
   "cell_type": "markdown",
   "id": "12dd00a4",
   "metadata": {},
   "source": [
    "A string can also be a combination of special characters :\n",
    "#Special characters in string\n",
    "\n",
    "'@#2_#]&*^%$'"
   ]
  },
  {
   "cell_type": "markdown",
   "id": "3cdf8218",
   "metadata": {},
   "source": [
    "###We can print our string using the print statement:\n",
    "#Print the string\n",
    "\n",
    "#print(\"hello!\")"
   ]
  },
  {
   "cell_type": "markdown",
   "id": "82379476",
   "metadata": {},
   "source": [
    "###We can bind or assign a string to another variable:\n",
    "    ###Assign string to variable\n",
    "\n",
    "###name = \"Michael Jackson\"\n",
    "###name"
   ]
  },
  {
   "cell_type": "markdown",
   "id": "1ace1bca",
   "metadata": {},
   "source": [
    "### Indexing"
   ]
  },
  {
   "cell_type": "markdown",
   "id": "9c591461",
   "metadata": {},
   "source": [
    "###It is helpful to think of a string as an ordered sequence. \n",
    "###Each element in the sequence can be accessed using an index represented by the array of numbers:"
   ]
  },
  {
   "cell_type": "code",
   "execution_count": null,
   "id": "573731f7",
   "metadata": {},
   "outputs": [],
   "source": [
    "[Tip]: Because indexing starts at 0, it means the first index is on the index 0."
   ]
  },
  {
   "cell_type": "code",
   "execution_count": null,
   "id": "8b04e2a6",
   "metadata": {},
   "outputs": [],
   "source": [
    "# Print the first element in the string\n",
    "\n",
    "print(name[0])"
   ]
  },
  {
   "cell_type": "code",
   "execution_count": null,
   "id": "11506504",
   "metadata": {},
   "outputs": [],
   "source": [
    "# Print the element on index 6 in the string\n",
    "\n",
    "print(name[6])"
   ]
  },
  {
   "cell_type": "code",
   "execution_count": null,
   "id": "cdf41e59",
   "metadata": {},
   "outputs": [],
   "source": [
    "# Print the element on the 13th index in the string\n",
    "\n",
    "print(name[13])"
   ]
  },
  {
   "cell_type": "markdown",
   "id": "2cfd2542",
   "metadata": {},
   "source": [
    "### Negative indexing of strings"
   ]
  },
  {
   "cell_type": "code",
   "execution_count": 2,
   "id": "f8dba633",
   "metadata": {},
   "outputs": [],
   "source": [
    "Negative index can help us to count the element from the end of the string.\n",
    "The last element is given by the index -1:"
   ]
  },
  {
   "cell_type": "code",
   "execution_count": null,
   "id": "53c71549",
   "metadata": {},
   "outputs": [],
   "source": [
    "# Print the last element in the string\n",
    "\n",
    "print(name[-1])"
   ]
  },
  {
   "cell_type": "code",
   "execution_count": null,
   "id": "2e386831",
   "metadata": {},
   "outputs": [],
   "source": [
    "# Print the first element in the string\n",
    "\n",
    "print(name[-15])"
   ]
  },
  {
   "cell_type": "code",
   "execution_count": null,
   "id": "15d55af7",
   "metadata": {},
   "outputs": [],
   "source": [
    "# Find the length of string\n",
    "\n",
    "len(\"Michael Jackson\")"
   ]
  },
  {
   "cell_type": "markdown",
   "id": "e518e3c5",
   "metadata": {},
   "source": [
    "### Slicing of strings"
   ]
  },
  {
   "cell_type": "code",
   "execution_count": null,
   "id": "f54a1ff5",
   "metadata": {},
   "outputs": [],
   "source": [
    "We can obtain multiple characters from a string using slicing, we can obtain the 0 to 4th and 8th to the 12th element:"
   ]
  },
  {
   "cell_type": "code",
   "execution_count": null,
   "id": "a90fa1e7",
   "metadata": {},
   "outputs": [],
   "source": [
    "[Tip]: When taking the slice,\n",
    "    the first number means the index (start at 0),\n",
    "    and the second number means the length from the index to the last element you want (start at 1)"
   ]
  },
  {
   "cell_type": "code",
   "execution_count": null,
   "id": "89c124d0",
   "metadata": {},
   "outputs": [],
   "source": [
    "# Take the slice on variable name with only index 0 to index 3\n",
    "\n",
    "name[0:4]# Take the slice on variable name with only index 8 to index 11\n",
    "\n",
    "name[8:12]"
   ]
  },
  {
   "cell_type": "markdown",
   "id": "c393c802",
   "metadata": {},
   "source": [
    "### Stride or Slicing"
   ]
  },
  {
   "cell_type": "code",
   "execution_count": null,
   "id": "fb93491c",
   "metadata": {},
   "outputs": [],
   "source": [
    "We can also  input a stride value as follows, with the '2' indicating that we are selecting every second variable:"
   ]
  },
  {
   "cell_type": "code",
   "execution_count": null,
   "id": "9a556c49",
   "metadata": {},
   "outputs": [],
   "source": [
    "# Get every second element. The elments on index 1, 3, 5 ...\n",
    "\n",
    "name[::2]"
   ]
  },
  {
   "cell_type": "code",
   "execution_count": null,
   "id": "fa07c87b",
   "metadata": {},
   "outputs": [],
   "source": [
    "We can also incorporate slicing  with the stride. In this case, we select the first five elements and then use the stride:\n",
    "# Get every second element in the range from index 0 to index 4\n",
    "\n",
    "name[0:5:2]"
   ]
  },
  {
   "cell_type": "markdown",
   "id": "5fd04e1b",
   "metadata": {},
   "source": [
    "### Concatenate Strings "
   ]
  },
  {
   "cell_type": "code",
   "execution_count": null,
   "id": "c89a5958",
   "metadata": {},
   "outputs": [],
   "source": [
    "We can concatenate or combine strings by using the addition symbols, \n",
    "and the result is a new string that is a combination of both"
   ]
  },
  {
   "cell_type": "code",
   "execution_count": null,
   "id": "b9c3e82c",
   "metadata": {},
   "outputs": [],
   "source": [
    "# Concatenate two strings\n",
    "\n",
    "statement = name + \"is the best\"\n",
    "statement"
   ]
  },
  {
   "cell_type": "code",
   "execution_count": null,
   "id": "859eb826",
   "metadata": {},
   "outputs": [],
   "source": [
    "To replicate values of a string we simply multiply the string by the number of times we would like to replicate it.\n",
    "In this case, the number is three. \n",
    "The result is a new string, and this new string consists of three copies of the original string:"
   ]
  },
  {
   "cell_type": "code",
   "execution_count": null,
   "id": "d5940a40",
   "metadata": {},
   "outputs": [],
   "source": [
    "# Print the string for 3 times\n",
    "\n",
    "3 * \"Michael Jackson\""
   ]
  },
  {
   "cell_type": "code",
   "execution_count": null,
   "id": "b11baea3",
   "metadata": {},
   "outputs": [],
   "source": [
    "You can create a new string by setting it to the original variable. \n",
    "Concatenated with a new string, the result is a new string that changes from\"Michael Jackson to Michael Jackson is the best\""
   ]
  },
  {
   "cell_type": "code",
   "execution_count": null,
   "id": "b08d8eb9",
   "metadata": {},
   "outputs": [],
   "source": [
    "# Concatenate strings\n",
    "\n",
    "name = \"Michael Jackson\"\n",
    "name = name + \" is the best\"\n",
    "name"
   ]
  },
  {
   "cell_type": "markdown",
   "id": "6550423b",
   "metadata": {},
   "source": [
    "### RegEx"
   ]
  },
  {
   "cell_type": "code",
   "execution_count": null,
   "id": "b875cd98",
   "metadata": {},
   "outputs": [],
   "source": [
    "In Python, RegEx (short for Regular Expression) is a tool for matching and handling strings. "
   ]
  },
  {
   "cell_type": "code",
   "execution_count": null,
   "id": "8b6dff16",
   "metadata": {},
   "outputs": [],
   "source": [
    "This RegEx module provides several functions for working with regular expressions,including search, split, findall, and sub."
   ]
  },
  {
   "cell_type": "code",
   "execution_count": null,
   "id": "0f89062b",
   "metadata": {},
   "outputs": [],
   "source": [
    "Python provides a built-in module called re, which allows you to work with regular expressions. First, import the re module"
   ]
  },
  {
   "cell_type": "code",
   "execution_count": 4,
   "id": "8e4ffd17",
   "metadata": {},
   "outputs": [],
   "source": [
    "import re"
   ]
  },
  {
   "cell_type": "code",
   "execution_count": null,
   "id": "cc358d88",
   "metadata": {},
   "outputs": [],
   "source": [
    "The search() function searches for specified patterns within a string.\n",
    "Here is an example that explains how to use the search() function to search for the word \"Jackson\" in the string \n",
    "\"Michael Jackson is the best\"."
   ]
  },
  {
   "cell_type": "code",
   "execution_count": 5,
   "id": "d95649cf",
   "metadata": {},
   "outputs": [
    {
     "name": "stdout",
     "output_type": "stream",
     "text": [
      "Match found!\n"
     ]
    }
   ],
   "source": [
    "import re\n",
    "s1 = \"Michael Jackson is the best\"\n",
    "\n",
    "# Define the pattern to search for\n",
    "pattern = r\"Jackson\"\n",
    "\n",
    "# Use the search() function to search for the pattern in the string\n",
    "result = re.search(pattern, s1)\n",
    "\n",
    "# Check if a match was found\n",
    "if result:\n",
    "    print(\"Match found!\")\n",
    "else:\n",
    "    print(\"Match not found.\")"
   ]
  },
  {
   "cell_type": "code",
   "execution_count": null,
   "id": "2d8365eb",
   "metadata": {},
   "outputs": [],
   "source": [
    "A regular expression's \n",
    "<code>split()</code> function splits a string into an array of substrings based on a specified pattern.\n"
   ]
  },
  {
   "cell_type": "code",
   "execution_count": null,
   "id": "f93a7ad6",
   "metadata": {},
   "outputs": [],
   "source": [
    "# Use the split function to split the string by the \"\\s\"\n",
    "split_array = re.split(\"\\s\", s2)\n",
    "\n",
    "# The split_array contains all the substrings, split by whitespace characters\n",
    "print(split_array) "
   ]
  },
  {
   "cell_type": "code",
   "execution_count": null,
   "id": "4d2751bb",
   "metadata": {},
   "outputs": [],
   "source": [
    "The sub function of a regular expression in Python is used to replace all occurrences of a \n",
    "pattern in a string with a specified replacement."
   ]
  },
  {
   "cell_type": "code",
   "execution_count": null,
   "id": "1a0aa933",
   "metadata": {},
   "outputs": [],
   "source": [
    "# Define the regular expression pattern to search for\n",
    "pattern = r\"King of Pop\"\n",
    "\n",
    "# Define the replacement string\n",
    "replacement = \"legend\"\n",
    "\n",
    "# Use the sub function to replace the pattern with the replacement string\n",
    "new_string = re.sub(pattern, replacement, s2, flags=re.IGNORECASE)\n",
    "\n",
    "# The new_string contains the original string with the pattern replaced by the replacement string\n",
    "print(new_string) "
   ]
  },
  {
   "cell_type": "code",
   "execution_count": null,
   "id": "85a21d9e",
   "metadata": {},
   "outputs": [],
   "source": []
  }
 ],
 "metadata": {
  "kernelspec": {
   "display_name": "Python 3 (ipykernel)",
   "language": "python",
   "name": "python3"
  },
  "language_info": {
   "codemirror_mode": {
    "name": "ipython",
    "version": 3
   },
   "file_extension": ".py",
   "mimetype": "text/x-python",
   "name": "python",
   "nbconvert_exporter": "python",
   "pygments_lexer": "ipython3",
   "version": "3.7.8"
  }
 },
 "nbformat": 4,
 "nbformat_minor": 5
}
