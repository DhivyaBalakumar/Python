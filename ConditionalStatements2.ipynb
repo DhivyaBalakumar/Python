{
 "cells": [
  {
   "cell_type": "markdown",
   "id": "5b8ecec2-0d8e-439b-b927-b6d5d2b0f080",
   "metadata": {},
   "source": [
    "### Conditional Statements 2"
   ]
  },
  {
   "cell_type": "markdown",
   "id": "beb99fa4-11b3-40e6-83ed-1ea623b0df05",
   "metadata": {},
   "source": [
    "### if-elif-else"
   ]
  },
  {
   "cell_type": "code",
   "execution_count": null,
   "id": "21c1f793-7cda-4c15-8008-a6d0747a7e6b",
   "metadata": {},
   "outputs": [],
   "source": [
    "### Display Bus Fare\n",
    "age=int(\"Enter age:\")\n",
    "if(0<age<3):\n",
    "    print(\"No fare for age group for 0 to 3\")\n",
    "elif(3<age<10):\n",
    "    print(\"Bus fare is 20\")\n",
    "elif(10<age<20):\n",
    "    print(\"Bus fare is 30\")\n",
    "else:\n",
    "    print(\"Bus fare is 40\")"
   ]
  },
  {
   "cell_type": "markdown",
   "id": "68d4db56-09e5-47d5-b967-67e1290304a3",
   "metadata": {},
   "source": [
    "### Nested if-else"
   ]
  },
  {
   "cell_type": "code",
   "execution_count": 1,
   "id": "47ea7e03-904d-41f8-ab71-dd0176469b80",
   "metadata": {},
   "outputs": [
    {
     "name": "stdout",
     "output_type": "stream",
     "text": [
      "63 is greater\n"
     ]
    }
   ],
   "source": [
    "num1=17\n",
    "num2=45\n",
    "num3=63\n",
    "if num1>num2:\n",
    "    print(num1,\"is greater\")\n",
    "else:\n",
    "    if num3>num2:\n",
    "        print(num3,\"is greater\")\n",
    "    else:\n",
    "        print(num2,\"is greater\")"
   ]
  },
  {
   "cell_type": "markdown",
   "id": "b8387b70-2449-4c37-b435-e8a0e3bcd7aa",
   "metadata": {},
   "source": [
    "# Progrm to check password for a user id\n",
    "user_id=input(\"Enter user id:\")\n",
    "password=input(\"password:\")\n",
    "if user_id==\"la_pl\":\n",
    "    if password==\"123\":\n",
    "        print(\"password accepted.logged in\")\n",
    "    else:\n",
    "            print(\"wrong password\")"
   ]
  }
 ],
 "metadata": {
  "kernelspec": {
   "display_name": "Python 3 (ipykernel)",
   "language": "python",
   "name": "python3"
  },
  "language_info": {
   "codemirror_mode": {
    "name": "ipython",
    "version": 3
   },
   "file_extension": ".py",
   "mimetype": "text/x-python",
   "name": "python",
   "nbconvert_exporter": "python",
   "pygments_lexer": "ipython3",
   "version": "3.12.5"
  }
 },
 "nbformat": 4,
 "nbformat_minor": 5
}
