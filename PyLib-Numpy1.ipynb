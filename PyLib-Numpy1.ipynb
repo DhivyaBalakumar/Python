{
 "cells": [
  {
   "cell_type": "markdown",
   "id": "dcad87ef-adb4-42d3-82a2-06a38f2ad2c2",
   "metadata": {},
   "source": [
    "### NUMPY"
   ]
  },
  {
   "cell_type": "code",
   "execution_count": 3,
   "id": "21547bed-a355-4452-9891-efa3c73a5d71",
   "metadata": {},
   "outputs": [
    {
     "name": "stdout",
     "output_type": "stream",
     "text": [
      "Collecting numpy\n",
      "  Downloading numpy-2.0.1-cp312-cp312-win_amd64.whl.metadata (60 kB)\n",
      "Downloading numpy-2.0.1-cp312-cp312-win_amd64.whl (16.3 MB)\n",
      "   ---------------------------------------- 0.0/16.3 MB ? eta -:--:--\n",
      "   ----------- ---------------------------- 4.7/16.3 MB 25.9 MB/s eta 0:00:01\n",
      "   ------------------- -------------------- 8.1/16.3 MB 20.1 MB/s eta 0:00:01\n",
      "   ----------------------- ---------------- 9.7/16.3 MB 15.5 MB/s eta 0:00:01\n",
      "   -------------------------- ------------- 10.7/16.3 MB 13.7 MB/s eta 0:00:01\n",
      "   ------------------------------ --------- 12.3/16.3 MB 12.1 MB/s eta 0:00:01\n",
      "   ---------------------------------- ----- 14.2/16.3 MB 11.2 MB/s eta 0:00:01\n",
      "   -------------------------------------- - 15.7/16.3 MB 11.0 MB/s eta 0:00:01\n",
      "   ---------------------------------------- 16.3/16.3 MB 10.5 MB/s eta 0:00:00\n",
      "Installing collected packages: numpy\n",
      "Successfully installed numpy-2.0.1\n"
     ]
    }
   ],
   "source": [
    "!pip install numpy"
   ]
  },
  {
   "cell_type": "code",
   "execution_count": 4,
   "id": "cb8ed036-e781-4454-b517-a6d5e5fce344",
   "metadata": {},
   "outputs": [
    {
     "name": "stdout",
     "output_type": "stream",
     "text": [
      "3.12.5 (tags/v3.12.5:ff3bc82, Aug  6 2024, 20:45:27) [MSC v.1940 64 bit (AMD64)]\n"
     ]
    }
   ],
   "source": [
    "import sys\n",
    "print(sys.version)\n"
   ]
  },
  {
   "cell_type": "code",
   "execution_count": 6,
   "id": "29d0792d-fa35-4622-9f5a-3d930b398096",
   "metadata": {},
   "outputs": [],
   "source": [
    "import numpy as np"
   ]
  },
  {
   "cell_type": "code",
   "execution_count": 7,
   "id": "c2248da9-a0e6-4674-9b6b-f78ec53bf658",
   "metadata": {},
   "outputs": [
    {
     "name": "stdout",
     "output_type": "stream",
     "text": [
      "2.0.1\n"
     ]
    }
   ],
   "source": [
    "import numpy\n",
    "print(numpy.__version__)"
   ]
  },
  {
   "cell_type": "code",
   "execution_count": 8,
   "id": "54055b55-fcf6-40dc-8e42-b160b20f10f5",
   "metadata": {},
   "outputs": [],
   "source": [
    "arr= np.array(\"[1,2,3,4,5]\")"
   ]
  },
  {
   "cell_type": "code",
   "execution_count": 9,
   "id": "390b595c-ac77-4ee9-b18c-e950dfb33938",
   "metadata": {},
   "outputs": [
    {
     "data": {
      "text/plain": [
       "array('[1,2,3,4,5]', dtype='<U11')"
      ]
     },
     "execution_count": 9,
     "metadata": {},
     "output_type": "execute_result"
    }
   ],
   "source": [
    "arr"
   ]
  },
  {
   "cell_type": "code",
   "execution_count": 10,
   "id": "7157deee-4299-45d6-aa01-b7d57d79de4d",
   "metadata": {},
   "outputs": [],
   "source": [
    "arr1=np.array([1,2,3,4,5,6])"
   ]
  },
  {
   "cell_type": "code",
   "execution_count": 11,
   "id": "42073a59-da78-4078-a623-f9276d563627",
   "metadata": {},
   "outputs": [
    {
     "data": {
      "text/plain": [
       "array([1, 2, 3, 4, 5, 6])"
      ]
     },
     "execution_count": 11,
     "metadata": {},
     "output_type": "execute_result"
    }
   ],
   "source": [
    "arr1"
   ]
  },
  {
   "cell_type": "code",
   "execution_count": 12,
   "id": "3b124548-aa1a-4859-9926-ca2a205e51e1",
   "metadata": {},
   "outputs": [
    {
     "data": {
      "text/plain": [
       "[[1, 2, 3], [4, 5, 6], [7, 8, 9]]"
      ]
     },
     "execution_count": 12,
     "metadata": {},
     "output_type": "execute_result"
    }
   ],
   "source": [
    "list_of_lists=[[1,2,3],[4,5,6],[7,8,9]]\n",
    "list_of_lists"
   ]
  },
  {
   "cell_type": "code",
   "execution_count": 13,
   "id": "bf1d0085-0035-4bc5-81be-bf6c1009c877",
   "metadata": {},
   "outputs": [],
   "source": [
    "sample_array=np.array(list_of_lists)"
   ]
  },
  {
   "cell_type": "code",
   "execution_count": 15,
   "id": "b9adf4f5-821d-447e-b560-4fefc1c127ca",
   "metadata": {},
   "outputs": [
    {
     "data": {
      "text/plain": [
       "array([[1, 2, 3],\n",
       "       [4, 5, 6],\n",
       "       [7, 8, 9]])"
      ]
     },
     "execution_count": 15,
     "metadata": {},
     "output_type": "execute_result"
    }
   ],
   "source": [
    "sample_array"
   ]
  },
  {
   "cell_type": "code",
   "execution_count": 21,
   "id": "86a63580-515c-4f2e-8331-76d90b81158e",
   "metadata": {},
   "outputs": [
    {
     "data": {
      "text/plain": [
       "array([ 5,  6,  7,  8,  9, 10, 11, 12, 13, 14, 15, 16, 17, 18, 19])"
      ]
     },
     "execution_count": 21,
     "metadata": {},
     "output_type": "execute_result"
    }
   ],
   "source": [
    "np.arange(5,20)    #from 5 to 19"
   ]
  },
  {
   "cell_type": "code",
   "execution_count": 22,
   "id": "f843c667-dff0-40c7-9f8d-4bbc1687fa25",
   "metadata": {},
   "outputs": [
    {
     "data": {
      "text/plain": [
       "array([ 0,  1,  2,  3,  4,  5,  6,  7,  8,  9, 10, 11, 12, 13, 14, 15, 16,\n",
       "       17])"
      ]
     },
     "execution_count": 22,
     "metadata": {},
     "output_type": "execute_result"
    }
   ],
   "source": [
    "np.arange(18)       #from 0 to 17"
   ]
  },
  {
   "cell_type": "code",
   "execution_count": 18,
   "id": "0004fe8e-d043-4318-89f6-9d7ae325b95e",
   "metadata": {},
   "outputs": [
    {
     "data": {
      "text/plain": [
       "array([0., 0., 0., 0., 0.])"
      ]
     },
     "execution_count": 18,
     "metadata": {},
     "output_type": "execute_result"
    }
   ],
   "source": [
    "np.zeros(5)"
   ]
  },
  {
   "cell_type": "code",
   "execution_count": 20,
   "id": "a1fd4adb-2220-4a1a-8bdd-7595e381f519",
   "metadata": {},
   "outputs": [
    {
     "data": {
      "text/plain": [
       "array([5, 6, 7, 8, 9])"
      ]
     },
     "execution_count": 20,
     "metadata": {},
     "output_type": "execute_result"
    }
   ],
   "source": [
    "np.arange(5,10)          #shift+tab->explanation"
   ]
  },
  {
   "cell_type": "markdown",
   "id": "99b1497b-336a-46d8-9974-b70fa11bd67b",
   "metadata": {},
   "source": [
    "### Docstring:\n",
    "arange([start,] stop[, step,], dtype=None, *, device=None, like=None)\n",
    "\n",
    "Return evenly spaced values within a given interval.\n",
    "\n",
    "``arange`` can be called with a varying number of positional arguments:\n",
    "\n",
    "* ``arange(stop)``: Values are generated within the half-open interval\n",
    "  ``[0, stop)`` (in other words, the interval including `start` but\n",
    "  excluding `stop`).\n",
    "* ``arange(start, stop)``: Values are generated within the half-open\n",
    "  interval ``[start, stop)``.\n",
    "* ``arange(start, stop, step)`` Values are generated within the half-open\n",
    "  interval ``[start, stop)``, with spacing between values given by\n",
    "  ``step``.\n",
    "\n",
    "For integer arguments the function is roughly equivalent to the Python\n",
    "built-in :py:class:`range`, but returns an ndarray rather than a ``range``\n",
    "instance.\n",
    "\n",
    "When using a non-integer step, such as 0.1, it is often better to use\n",
    "`numpy.linspace`.\n",
    "\n",
    "See the Warning sections below for more information.\n",
    "\n",
    "Parameters\n",
    "----------\n",
    "start : integer or real, optional\n",
    "    Start of interval.  The interval includes this value.  The default\n",
    "    start value is 0.\n",
    "stop : integer or real\n",
    "    End of interval.  The interval does not include this value, except\n",
    "    in some cases where `step` is not an integer and floating point\n",
    "    round-off affects the length of `out`.\n",
    "step : integer or real, optional\n",
    "    Spacing between values.  For any output `out`, this is the distance\n",
    "    between two adjacent values, ``out[i+1] - out[i]``.  The default\n",
    "    step size is 1.  If `step` is specified as a position argument,\n",
    "    `start` must also be given.\n",
    "dtype : dtype, optional\n",
    "    The type of the output array.  If `dtype` is not given, infer the data\n",
    "    type from the other input arguments.\n",
    "device : str, optional\n",
    "    The device on which to place the created array. Default: None.\n",
    "    For Array-API interoperability only, so must be ``\"cpu\"`` if passed.\n",
    "\n",
    "    .. versionadded:: 2.0.0\n",
    "like : array_like, optional\n",
    "    Reference object to allow the creation of arrays which are not\n",
    "    NumPy arrays. If an array-like passed in as ``like`` supports\n",
    "    the ``__array_function__`` protocol, the result will be defined\n",
    "    by it. In this case, it ensures the creation of an array object\n",
    "    compatible with that passed in via this argument.\n",
    "\n",
    "    .. versionadded:: 1.20.0\n",
    "\n",
    "Returns\n",
    "-------\n",
    "arange : ndarray\n",
    "    Array of evenly spaced values.\n",
    "\n",
    "    For floating point arguments, the length of the result is\n",
    "    ``ceil((stop - start)/step)``.  Because of floating point overflow,\n",
    "    this rule may result in the last element of `out` being greater\n",
    "    than `stop`.\n",
    "\n",
    "Warnings\n",
    "--------\n",
    "The length of the output might not be numerically stable.\n",
    "\n",
    "Another stability issue is due to the internal implementation of\n",
    "`numpy.arange`.\n",
    "The actual step value used to populate the array is\n",
    "``dtype(start + step) - dtype(start)`` and not `step`. Precision loss\n",
    "can occur here, due to casting or due to using floating points when\n",
    "`start` is much larger than `step`. This can lead to unexpected\n",
    "behaviour. For example::\n",
    "\n",
    "  >>> np.arange(0, 5, 0.5, dtype=int)\n",
    "  array([0, 0, 0, 0, 0, 0, 0, 0, 0, 0])\n",
    "  >>> np.arange(-3, 3, 0.5, dtype=int)\n",
    "  array([-3, -2, -1,  0,  1,  2,  3,  4,  5,  6,  7,  8])\n",
    "\n",
    "In such cases, the use of `numpy.linspace` should be preferred.\n",
    "\n",
    "The built-in :py:class:`range` generates :std:doc:`Python built-in integers\n",
    "that have arbitrary size <python:c-api/long>`, while `numpy.arange`\n",
    "produces `numpy.int32` or `numpy.int64` numbers. This may result in\n",
    "incorrect results for large integer values::\n",
    "\n",
    "  >>> power = 40\n",
    "  >>> modulo = 10000\n",
    "  >>> x1 = [(n ** power) % modulo for n in range(8)]\n",
    "  >>> x2 = [(n ** power) % modulo for n in np.arange(8)]\n",
    "  >>> print(x1)\n",
    "  [0, 1, 7776, 8801, 6176, 625, 6576, 4001]  # correct\n",
    "  >>> print(x2)\n",
    "  [0, 1, 7776, 7185, 0, 5969, 4816, 3361]  # incorrect\n",
    "\n",
    "See Also\n",
    "--------\n",
    "numpy.linspace : Evenly spaced numbers with careful handling of endpoints.\n",
    "numpy.ogrid: Arrays of evenly spaced numbers in N-dimensions.\n",
    "numpy.mgrid: Grid-shaped arrays of evenly spaced numbers in N-dimensions.\n",
    ":ref:`how-to-partition`\n",
    "\n",
    "Examples\n",
    "--------\n",
    ">>> np.arange(3)\n",
    "array([0, 1, 2])\n",
    ">>> np.arange(3.0)\n",
    "array([ 0.,  1.,  2.])\n",
    ">>> np.arange(3,7)\n",
    "array([3, 4, 5, 6])\n",
    ">>> np.arange(3,7,2)\n",
    "array([3, 5])\n",
    "Type:      builtin_function_or_method"
   ]
  },
  {
   "cell_type": "code",
   "execution_count": 24,
   "id": "c5642a01-7e67-4628-a4da-86e5282083ff",
   "metadata": {},
   "outputs": [
    {
     "data": {
      "text/plain": [
       "array([ 1,  2,  3,  4,  5,  6,  7,  8,  9, 10, 11, 12, 13, 14, 15, 16, 17,\n",
       "       18, 19, 20, 21, 22, 23, 24, 25, 26, 27, 28, 29, 30, 31, 32, 33, 34,\n",
       "       35, 36, 37, 38, 39, 40, 41, 42, 43, 44, 45, 46, 47, 48, 49, 50, 51,\n",
       "       52, 53, 54, 55, 56, 57, 58, 59, 60, 61, 62, 63, 64, 65, 66, 67, 68,\n",
       "       69, 70, 71, 72, 73, 74, 75, 76, 77, 78, 79, 80, 81, 82, 83, 84, 85,\n",
       "       86, 87, 88, 89, 90, 91, 92, 93, 94, 95, 96, 97, 98, 99])"
      ]
     },
     "execution_count": 24,
     "metadata": {},
     "output_type": "execute_result"
    }
   ],
   "source": [
    "np.arange(1,100)"
   ]
  },
  {
   "cell_type": "code",
   "execution_count": 25,
   "id": "a9d964d0-41d7-47ab-a2f3-797ee0da7540",
   "metadata": {},
   "outputs": [
    {
     "data": {
      "text/plain": [
       "array([ 0,  1,  2,  3,  4,  5,  6,  7,  8,  9, 10, 11, 12, 13, 14, 15, 16,\n",
       "       17, 18, 19, 20, 21, 22, 23, 24, 25, 26, 27, 28, 29, 30, 31, 32, 33,\n",
       "       34, 35, 36, 37, 38, 39, 40, 41, 42, 43, 44, 45, 46, 47, 48, 49, 50,\n",
       "       51, 52, 53, 54, 55, 56, 57, 58, 59, 60, 61, 62, 63, 64, 65, 66, 67,\n",
       "       68, 69, 70, 71, 72, 73, 74, 75, 76, 77, 78, 79, 80, 81, 82, 83, 84,\n",
       "       85, 86, 87, 88, 89, 90, 91, 92, 93, 94, 95, 96, 97, 98, 99])"
      ]
     },
     "execution_count": 25,
     "metadata": {},
     "output_type": "execute_result"
    }
   ],
   "source": [
    "np.arange(100)"
   ]
  },
  {
   "cell_type": "code",
   "execution_count": 26,
   "id": "85950209-94b9-4195-8189-05c7605307b3",
   "metadata": {},
   "outputs": [
    {
     "data": {
      "text/plain": [
       "array([ 1,  6, 11, 16, 21, 26, 31, 36, 41])"
      ]
     },
     "execution_count": 26,
     "metadata": {},
     "output_type": "execute_result"
    }
   ],
   "source": [
    "np.arange(1,45,5)"
   ]
  },
  {
   "cell_type": "code",
   "execution_count": 27,
   "id": "310034d7-3e80-4499-aa54-1aa6be1bd460",
   "metadata": {},
   "outputs": [
    {
     "data": {
      "text/plain": [
       "array([], dtype=int64)"
      ]
     },
     "execution_count": 27,
     "metadata": {},
     "output_type": "execute_result"
    }
   ],
   "source": [
    "np.arange(100,5)"
   ]
  },
  {
   "cell_type": "code",
   "execution_count": 28,
   "id": "29700cfe-0c43-4030-9dd4-91049fb9148a",
   "metadata": {},
   "outputs": [
    {
     "data": {
      "text/plain": [
       "array([ 0,  5, 10, 15, 20, 25, 30, 35, 40, 45, 50, 55, 60, 65, 70, 75, 80,\n",
       "       85, 90, 95])"
      ]
     },
     "execution_count": 28,
     "metadata": {},
     "output_type": "execute_result"
    }
   ],
   "source": [
    "np.arange(0,100,5)"
   ]
  },
  {
   "cell_type": "code",
   "execution_count": 29,
   "id": "bfa4153e-26f7-4cac-b141-bc3a2a082f63",
   "metadata": {},
   "outputs": [
    {
     "data": {
      "text/plain": [
       "array([ 1,  6, 11, 16, 21, 26, 31, 36, 41])"
      ]
     },
     "execution_count": 29,
     "metadata": {},
     "output_type": "execute_result"
    }
   ],
   "source": [
    "np.arange(1,46,5)"
   ]
  },
  {
   "cell_type": "code",
   "execution_count": 31,
   "id": "20dca37c-2d38-4f48-9eef-6bbab96fdec8",
   "metadata": {},
   "outputs": [
    {
     "data": {
      "text/plain": [
       "array([0., 0., 0., 0., 0.])"
      ]
     },
     "execution_count": 31,
     "metadata": {},
     "output_type": "execute_result"
    }
   ],
   "source": [
    "np.zeros(5)           #5 zeros of float datatype"
   ]
  },
  {
   "cell_type": "code",
   "execution_count": 33,
   "id": "819d6316-d848-4dd8-8a4b-ea0f235c32b8",
   "metadata": {},
   "outputs": [
    {
     "data": {
      "text/plain": [
       "array([0, 0, 0, 0, 0])"
      ]
     },
     "execution_count": 33,
     "metadata": {},
     "output_type": "execute_result"
    }
   ],
   "source": [
    "np.zeros(5,int)          #default dtype is float, hence if we need it to be int type we must explicitly specify"
   ]
  },
  {
   "cell_type": "code",
   "execution_count": 34,
   "id": "4eb70b04-4011-4bd8-bc27-fbd9ee87ea46",
   "metadata": {},
   "outputs": [
    {
     "data": {
      "text/plain": [
       "array([0, 0, 0, 0, 0, 0, 0, 0, 0, 0])"
      ]
     },
     "execution_count": 34,
     "metadata": {},
     "output_type": "execute_result"
    }
   ],
   "source": [
    "np.zeros(10, dtype=int)"
   ]
  },
  {
   "cell_type": "code",
   "execution_count": 35,
   "id": "8eebb7d6-2b29-452e-a9ad-5d1a34a77138",
   "metadata": {},
   "outputs": [
    {
     "data": {
      "text/plain": [
       "array([1., 1., 1., 1., 1., 1., 1., 1., 1., 1.])"
      ]
     },
     "execution_count": 35,
     "metadata": {},
     "output_type": "execute_result"
    }
   ],
   "source": [
    "np.ones(10)"
   ]
  },
  {
   "cell_type": "code",
   "execution_count": 36,
   "id": "b5766c15-2203-4bff-bfc0-68f08344d5b5",
   "metadata": {},
   "outputs": [
    {
     "data": {
      "text/plain": [
       "array([1, 1, 1, 1, 1, 1, 1, 1, 1, 1])"
      ]
     },
     "execution_count": 36,
     "metadata": {},
     "output_type": "execute_result"
    }
   ],
   "source": [
    "np.ones(10,int)"
   ]
  },
  {
   "cell_type": "code",
   "execution_count": 37,
   "id": "7d83592c-d5a1-4d34-accc-9941138db45d",
   "metadata": {},
   "outputs": [
    {
     "data": {
      "text/plain": [
       "array(['1', '1', '1', '1', '1', '1', '1', '1', '1', '1'], dtype='<U1')"
      ]
     },
     "execution_count": 37,
     "metadata": {},
     "output_type": "execute_result"
    }
   ],
   "source": [
    "np.ones(10,str)"
   ]
  },
  {
   "cell_type": "code",
   "execution_count": 38,
   "id": "553abc3d-1972-43dd-8463-a9526299eef0",
   "metadata": {},
   "outputs": [
    {
     "data": {
      "text/plain": [
       "array([1, 1, 1, 1, 1, 1, 1, 1, 1, 1])"
      ]
     },
     "execution_count": 38,
     "metadata": {},
     "output_type": "execute_result"
    }
   ],
   "source": [
    "np.ones(10, dtype=int)"
   ]
  },
  {
   "cell_type": "code",
   "execution_count": 39,
   "id": "4c879560-228a-47bc-831b-b93e7a5dbb68",
   "metadata": {},
   "outputs": [
    {
     "ename": "AttributeError",
     "evalue": "module 'numpy' has no attribute 'twos'",
     "output_type": "error",
     "traceback": [
      "\u001b[1;31m---------------------------------------------------------------------------\u001b[0m",
      "\u001b[1;31mAttributeError\u001b[0m                            Traceback (most recent call last)",
      "Cell \u001b[1;32mIn[39], line 1\u001b[0m\n\u001b[1;32m----> 1\u001b[0m \u001b[43mnp\u001b[49m\u001b[38;5;241;43m.\u001b[39;49m\u001b[43mtwos\u001b[49m(\u001b[38;5;241m10\u001b[39m)\n",
      "File \u001b[1;32m~\\AppData\\Local\\Programs\\Python\\Python312\\Lib\\site-packages\\numpy\\__init__.py:424\u001b[0m, in \u001b[0;36m__getattr__\u001b[1;34m(attr)\u001b[0m\n\u001b[0;32m    421\u001b[0m     \u001b[38;5;28;01mimport\u001b[39;00m \u001b[38;5;21;01mnumpy\u001b[39;00m\u001b[38;5;21;01m.\u001b[39;00m\u001b[38;5;21;01mchar\u001b[39;00m \u001b[38;5;28;01mas\u001b[39;00m \u001b[38;5;21;01mchar\u001b[39;00m\n\u001b[0;32m    422\u001b[0m     \u001b[38;5;28;01mreturn\u001b[39;00m char\u001b[38;5;241m.\u001b[39mchararray\n\u001b[1;32m--> 424\u001b[0m \u001b[38;5;28;01mraise\u001b[39;00m \u001b[38;5;167;01mAttributeError\u001b[39;00m(\u001b[38;5;124m\"\u001b[39m\u001b[38;5;124mmodule \u001b[39m\u001b[38;5;132;01m{!r}\u001b[39;00m\u001b[38;5;124m has no attribute \u001b[39m\u001b[38;5;124m\"\u001b[39m\n\u001b[0;32m    425\u001b[0m                      \u001b[38;5;124m\"\u001b[39m\u001b[38;5;132;01m{!r}\u001b[39;00m\u001b[38;5;124m\"\u001b[39m\u001b[38;5;241m.\u001b[39mformat(\u001b[38;5;18m__name__\u001b[39m, attr))\n",
      "\u001b[1;31mAttributeError\u001b[0m: module 'numpy' has no attribute 'twos'"
     ]
    }
   ],
   "source": [
    "np.twos(10)"
   ]
  },
  {
   "cell_type": "code",
   "execution_count": 40,
   "id": "18ef389b-cca1-41c0-8a4e-4a3409ff10cf",
   "metadata": {},
   "outputs": [
    {
     "data": {
      "text/plain": [
       "array([[0, 0, 0, 0, 0],\n",
       "       [0, 0, 0, 0, 0]])"
      ]
     },
     "execution_count": 40,
     "metadata": {},
     "output_type": "execute_result"
    }
   ],
   "source": [
    "np.zeros((2,5),int)"
   ]
  },
  {
   "cell_type": "code",
   "execution_count": 41,
   "id": "6d966d47-ec4e-4c7e-a4e5-39e2c1cad93b",
   "metadata": {},
   "outputs": [
    {
     "data": {
      "text/plain": [
       "array([[0., 0., 0., 0.]])"
      ]
     },
     "execution_count": 41,
     "metadata": {},
     "output_type": "execute_result"
    }
   ],
   "source": [
    "np.zeros((1,4))"
   ]
  },
  {
   "cell_type": "code",
   "execution_count": 42,
   "id": "2b5cda4a-16e4-4518-89c3-ad6bc493a884",
   "metadata": {},
   "outputs": [
    {
     "data": {
      "text/plain": [
       "array([[0, 0, 0, 0, 0],\n",
       "       [0, 0, 0, 0, 0]])"
      ]
     },
     "execution_count": 42,
     "metadata": {},
     "output_type": "execute_result"
    }
   ],
   "source": [
    "np.zeros((2,5), int)"
   ]
  },
  {
   "cell_type": "code",
   "execution_count": 43,
   "id": "267665a1-3fe4-4ea2-99da-8fc1e6e7e0d8",
   "metadata": {},
   "outputs": [
    {
     "data": {
      "text/plain": [
       "array([['1', '1', '1', '1', '1', '1'],\n",
       "       ['1', '1', '1', '1', '1', '1'],\n",
       "       ['1', '1', '1', '1', '1', '1'],\n",
       "       ['1', '1', '1', '1', '1', '1'],\n",
       "       ['1', '1', '1', '1', '1', '1'],\n",
       "       ['1', '1', '1', '1', '1', '1']], dtype='<U1')"
      ]
     },
     "execution_count": 43,
     "metadata": {},
     "output_type": "execute_result"
    }
   ],
   "source": [
    "np.ones((6,6),str)"
   ]
  },
  {
   "cell_type": "code",
   "execution_count": 44,
   "id": "ddcc5972-76c7-4990-b399-41232fd8824f",
   "metadata": {},
   "outputs": [
    {
     "data": {
      "text/plain": [
       "array([['', '', '', '', '', '', '', '', '', '', '', ''],\n",
       "       ['', '', '', '', '', '', '', '', '', '', '', ''],\n",
       "       ['', '', '', '', '', '', '', '', '', '', '', ''],\n",
       "       ['', '', '', '', '', '', '', '', '', '', '', ''],\n",
       "       ['', '', '', '', '', '', '', '', '', '', '', ''],\n",
       "       ['', '', '', '', '', '', '', '', '', '', '', ''],\n",
       "       ['', '', '', '', '', '', '', '', '', '', '', ''],\n",
       "       ['', '', '', '', '', '', '', '', '', '', '', ''],\n",
       "       ['', '', '', '', '', '', '', '', '', '', '', ''],\n",
       "       ['', '', '', '', '', '', '', '', '', '', '', ''],\n",
       "       ['', '', '', '', '', '', '', '', '', '', '', ''],\n",
       "       ['', '', '', '', '', '', '', '', '', '', '', '']], dtype='<U1')"
      ]
     },
     "execution_count": 44,
     "metadata": {},
     "output_type": "execute_result"
    }
   ],
   "source": [
    "np.zeros((12,12),str)"
   ]
  },
  {
   "cell_type": "code",
   "execution_count": 45,
   "id": "cd26f93d-805e-418f-8298-d993955d6699",
   "metadata": {},
   "outputs": [
    {
     "data": {
      "text/plain": [
       "array([['1', '1', '1', '1', '1', '1', '1', '1', '1', '1', '1', '1'],\n",
       "       ['1', '1', '1', '1', '1', '1', '1', '1', '1', '1', '1', '1'],\n",
       "       ['1', '1', '1', '1', '1', '1', '1', '1', '1', '1', '1', '1'],\n",
       "       ['1', '1', '1', '1', '1', '1', '1', '1', '1', '1', '1', '1'],\n",
       "       ['1', '1', '1', '1', '1', '1', '1', '1', '1', '1', '1', '1'],\n",
       "       ['1', '1', '1', '1', '1', '1', '1', '1', '1', '1', '1', '1'],\n",
       "       ['1', '1', '1', '1', '1', '1', '1', '1', '1', '1', '1', '1'],\n",
       "       ['1', '1', '1', '1', '1', '1', '1', '1', '1', '1', '1', '1'],\n",
       "       ['1', '1', '1', '1', '1', '1', '1', '1', '1', '1', '1', '1'],\n",
       "       ['1', '1', '1', '1', '1', '1', '1', '1', '1', '1', '1', '1'],\n",
       "       ['1', '1', '1', '1', '1', '1', '1', '1', '1', '1', '1', '1'],\n",
       "       ['1', '1', '1', '1', '1', '1', '1', '1', '1', '1', '1', '1']],\n",
       "      dtype='<U1')"
      ]
     },
     "execution_count": 45,
     "metadata": {},
     "output_type": "execute_result"
    }
   ],
   "source": [
    "np.ones((12,12),str)"
   ]
  },
  {
   "cell_type": "code",
   "execution_count": 46,
   "id": "231cdace-d6eb-458b-a188-1699eab50c40",
   "metadata": {},
   "outputs": [
    {
     "data": {
      "text/plain": [
       "array([['', '', ''],\n",
       "       ['', '', '']], dtype='<U1')"
      ]
     },
     "execution_count": 46,
     "metadata": {},
     "output_type": "execute_result"
    }
   ],
   "source": [
    "np.zeros((2,3),str)"
   ]
  },
  {
   "cell_type": "code",
   "execution_count": 47,
   "id": "a89713a4-679b-4348-b5ca-81005a73a712",
   "metadata": {},
   "outputs": [
    {
     "data": {
      "text/plain": [
       "array([[0, 0, 0, 0, 0, 0, 0, 0, 0, 0, 0, 0],\n",
       "       [0, 0, 0, 0, 0, 0, 0, 0, 0, 0, 0, 0],\n",
       "       [0, 0, 0, 0, 0, 0, 0, 0, 0, 0, 0, 0],\n",
       "       [0, 0, 0, 0, 0, 0, 0, 0, 0, 0, 0, 0],\n",
       "       [0, 0, 0, 0, 0, 0, 0, 0, 0, 0, 0, 0],\n",
       "       [0, 0, 0, 0, 0, 0, 0, 0, 0, 0, 0, 0],\n",
       "       [0, 0, 0, 0, 0, 0, 0, 0, 0, 0, 0, 0],\n",
       "       [0, 0, 0, 0, 0, 0, 0, 0, 0, 0, 0, 0],\n",
       "       [0, 0, 0, 0, 0, 0, 0, 0, 0, 0, 0, 0],\n",
       "       [0, 0, 0, 0, 0, 0, 0, 0, 0, 0, 0, 0],\n",
       "       [0, 0, 0, 0, 0, 0, 0, 0, 0, 0, 0, 0],\n",
       "       [0, 0, 0, 0, 0, 0, 0, 0, 0, 0, 0, 0]])"
      ]
     },
     "execution_count": 47,
     "metadata": {},
     "output_type": "execute_result"
    }
   ],
   "source": [
    "np.zeros((12,12),int)"
   ]
  },
  {
   "cell_type": "code",
   "execution_count": 48,
   "id": "f5f2453d-d76d-4567-9876-3b6dbe202c7a",
   "metadata": {},
   "outputs": [
    {
     "data": {
      "text/plain": [
       "array([1, 1, 1, 1, 1, 1, 1, 1, 1, 1, 1, 1, 1, 1, 1, 1, 1, 1, 1, 1, 1, 1,\n",
       "       1, 1, 1, 1, 1, 1, 1, 1, 1, 1, 1, 1, 1, 1, 1, 1, 1, 1, 1, 1, 1, 1,\n",
       "       1, 1, 1, 1, 1, 1, 1, 1, 1, 1, 1, 1, 1, 1, 1, 1, 1, 1, 1, 1, 1, 1,\n",
       "       1, 1, 1, 1, 1, 1, 1, 1, 1, 1, 1, 1, 1, 1, 1, 1, 1, 1, 1, 1, 1, 1,\n",
       "       1, 1, 1, 1, 1, 1, 1, 1, 1, 1, 1, 1])"
      ]
     },
     "execution_count": 48,
     "metadata": {},
     "output_type": "execute_result"
    }
   ],
   "source": [
    "np.ones(100,int)"
   ]
  },
  {
   "cell_type": "code",
   "execution_count": 51,
   "id": "82bbd66e-754d-47fb-b428-216cd11d5817",
   "metadata": {},
   "outputs": [
    {
     "data": {
      "text/plain": [
       "array([[0, 0, 0, 0, 0],\n",
       "       [0, 0, 0, 0, 0]])"
      ]
     },
     "execution_count": 51,
     "metadata": {},
     "output_type": "execute_result"
    }
   ],
   "source": [
    "np.zeros((2,5),int)        #shift+tab -> helpbox    #create an array of 0s with 2 rows n 5 cols"
   ]
  },
  {
   "cell_type": "markdown",
   "id": "35fd9730-0c47-438f-9c54-6050e11ea158",
   "metadata": {},
   "source": [
    "### Init signature: int(self, /, *args, **kwargs)\r\n",
    "Docstring:     \r\n",
    "int([x]) -> integer\r\n",
    "int(x, base=10) -> integer\r\n",
    "\r\n",
    "Convert a number or string to an integer, or return 0 if no arguments\r\n",
    "are given.  If x is a number, return x.__int__().  For floating-point\r\n",
    "numbers, this truncates towards zero.\r\n",
    "\r\n",
    "If x is not a number or if base is given, then x must be a string,\r\n",
    "bytes, or bytearray instance representing an integer literal in the\r\n",
    "given base.  The literal can be preceded by '+' or '-' and be surrounded\r\n",
    "by whitespace.  The base defaults to 10.  Valid bases are 0 and 2-36.\r\n",
    "Base 0 means to interpret the base from the string as an integer literal.\r\n",
    ">>> int('0b100', base=0)\r\n",
    "4\r\n",
    "Type:           type\r\n",
    "Subclasses:     bool, IntEnum, IntFlag, _NamedIntConstant, Handle"
   ]
  },
  {
   "cell_type": "code",
   "execution_count": 52,
   "id": "0836877e-24ed-4b3a-848c-b5d5a4296a48",
   "metadata": {},
   "outputs": [
    {
     "ename": "TypeError",
     "evalue": "Cannot interpret '5' as a data type",
     "output_type": "error",
     "traceback": [
      "\u001b[1;31m---------------------------------------------------------------------------\u001b[0m",
      "\u001b[1;31mTypeError\u001b[0m                                 Traceback (most recent call last)",
      "Cell \u001b[1;32mIn[52], line 1\u001b[0m\n\u001b[1;32m----> 1\u001b[0m \u001b[43mnp\u001b[49m\u001b[38;5;241;43m.\u001b[39;49m\u001b[43mzeros\u001b[49m\u001b[43m(\u001b[49m\u001b[38;5;241;43m2\u001b[39;49m\u001b[43m,\u001b[49m\u001b[38;5;241;43m5\u001b[39;49m\u001b[43m)\u001b[49m        \u001b[38;5;66;03m#only one set of parenthesis then error \u001b[39;00m\n",
      "\u001b[1;31mTypeError\u001b[0m: Cannot interpret '5' as a data type"
     ]
    }
   ],
   "source": [
    "np.zeros(2,5)        #only one set of parenthesis then error "
   ]
  },
  {
   "cell_type": "markdown",
   "id": "e902ef4e-0849-4e47-a838-a63870450fe3",
   "metadata": {},
   "source": [
    "### error bcz, TypeError: Cannot interpret '5' as a data type\n",
    "### shape, datatype is the syntax\n",
    "zeros(shape, dtype=float, order='C', *, like=None)"
   ]
  },
  {
   "cell_type": "code",
   "execution_count": 54,
   "id": "d20ed5eb-50a2-46cd-8084-91aa76b6b5ff",
   "metadata": {},
   "outputs": [
    {
     "data": {
      "text/plain": [
       "array([[0., 0., 0., 0., 0.],\n",
       "       [0., 0., 0., 0., 0.]])"
      ]
     },
     "execution_count": 54,
     "metadata": {},
     "output_type": "execute_result"
    }
   ],
   "source": [
    "np.zeros((2,5))"
   ]
  }
 ],
 "metadata": {
  "kernelspec": {
   "display_name": "Python 3 (ipykernel)",
   "language": "python",
   "name": "python3"
  },
  "language_info": {
   "codemirror_mode": {
    "name": "ipython",
    "version": 3
   },
   "file_extension": ".py",
   "mimetype": "text/x-python",
   "name": "python",
   "nbconvert_exporter": "python",
   "pygments_lexer": "ipython3",
   "version": "3.12.5"
  }
 },
 "nbformat": 4,
 "nbformat_minor": 5
}
