{
 "cells": [
  {
   "cell_type": "code",
   "execution_count": 1,
   "id": "f8220e07-5031-4843-b443-b4cd31aa08e6",
   "metadata": {},
   "outputs": [],
   "source": [
    "import numpy as np"
   ]
  },
  {
   "cell_type": "code",
   "execution_count": 3,
   "id": "38e1eb29-eca0-453b-8cdb-9ae91b06eecc",
   "metadata": {},
   "outputs": [
    {
     "data": {
      "text/plain": [
       "array([[1, 2, 3, 4],\n",
       "       [4, 3, 2, 1],\n",
       "       [8, 7, 6, 5],\n",
       "       [5, 6, 7, 8]])"
      ]
     },
     "execution_count": 3,
     "metadata": {},
     "output_type": "execute_result"
    }
   ],
   "source": [
    "sample_matrix=np.array([[1,2,3,4],[4,3,2,1],[8,7,6,5],[5,6,7,8]])  \n",
    "sample_matrix"
   ]
  },
  {
   "cell_type": "code",
   "execution_count": 4,
   "id": "6311429f-49a6-4907-91f8-64a512436d98",
   "metadata": {},
   "outputs": [
    {
     "ename": "TypeError",
     "evalue": "array() takes from 1 to 2 positional arguments but 4 were given",
     "output_type": "error",
     "traceback": [
      "\u001b[1;31m---------------------------------------------------------------------------\u001b[0m",
      "\u001b[1;31mTypeError\u001b[0m                                 Traceback (most recent call last)",
      "Cell \u001b[1;32mIn[4], line 1\u001b[0m\n\u001b[1;32m----> 1\u001b[0m sample_matrix\u001b[38;5;241m=\u001b[39m\u001b[43mnp\u001b[49m\u001b[38;5;241;43m.\u001b[39;49m\u001b[43marray\u001b[49m\u001b[43m(\u001b[49m\u001b[43m[\u001b[49m\u001b[38;5;241;43m1\u001b[39;49m\u001b[43m,\u001b[49m\u001b[38;5;241;43m2\u001b[39;49m\u001b[43m,\u001b[49m\u001b[38;5;241;43m3\u001b[39;49m\u001b[43m,\u001b[49m\u001b[38;5;241;43m4\u001b[39;49m\u001b[43m]\u001b[49m\u001b[43m,\u001b[49m\u001b[43m[\u001b[49m\u001b[38;5;241;43m4\u001b[39;49m\u001b[43m,\u001b[49m\u001b[38;5;241;43m3\u001b[39;49m\u001b[43m,\u001b[49m\u001b[38;5;241;43m2\u001b[39;49m\u001b[43m,\u001b[49m\u001b[38;5;241;43m1\u001b[39;49m\u001b[43m]\u001b[49m\u001b[43m,\u001b[49m\u001b[43m[\u001b[49m\u001b[38;5;241;43m8\u001b[39;49m\u001b[43m,\u001b[49m\u001b[38;5;241;43m7\u001b[39;49m\u001b[43m,\u001b[49m\u001b[38;5;241;43m6\u001b[39;49m\u001b[43m,\u001b[49m\u001b[38;5;241;43m5\u001b[39;49m\u001b[43m]\u001b[49m\u001b[43m,\u001b[49m\u001b[43m[\u001b[49m\u001b[38;5;241;43m5\u001b[39;49m\u001b[43m,\u001b[49m\u001b[38;5;241;43m6\u001b[39;49m\u001b[43m,\u001b[49m\u001b[38;5;241;43m7\u001b[39;49m\u001b[43m,\u001b[49m\u001b[38;5;241;43m8\u001b[39;49m\u001b[43m]\u001b[49m\u001b[43m)\u001b[49m  \n\u001b[0;32m      2\u001b[0m sample_matrix\n",
      "\u001b[1;31mTypeError\u001b[0m: array() takes from 1 to 2 positional arguments but 4 were given"
     ]
    }
   ],
   "source": [
    "sample_matrix=np.array([1,2,3,4],[4,3,2,1],[8,7,6,5],[5,6,7,8])  \n",
    "sample_matrix"
   ]
  },
  {
   "cell_type": "code",
   "execution_count": 6,
   "id": "a487402a-a7e0-4ad9-b1fd-4a63c43ff247",
   "metadata": {},
   "outputs": [
    {
     "data": {
      "text/plain": [
       "np.int64(5)"
      ]
     },
     "execution_count": 6,
     "metadata": {},
     "output_type": "execute_result"
    }
   ],
   "source": [
    "sample_matrix[2][3] #index always starts from 0; essentially 3rd row and 4th col intersection index's element"
   ]
  },
  {
   "cell_type": "code",
   "execution_count": 29,
   "id": "2eeb0d08-a4f4-407d-bd37-325553d42a08",
   "metadata": {},
   "outputs": [
    {
     "data": {
      "text/plain": [
       "array([[15, 20,  1, 23],\n",
       "       [24, 23, 21, 33],\n",
       "       [56, 76, 24,  7]])"
      ]
     },
     "execution_count": 29,
     "metadata": {},
     "output_type": "execute_result"
    }
   ],
   "source": [
    "sample_matrix=np.array([[15,20,1,23],[24,23,21,33],[56,76,24,7]])  \n",
    "sample_matrix"
   ]
  },
  {
   "cell_type": "code",
   "execution_count": 30,
   "id": "40fbabf9-c4b1-4eb9-8335-6c3176ff323f",
   "metadata": {},
   "outputs": [
    {
     "data": {
      "text/plain": [
       "np.int64(7)"
      ]
     },
     "execution_count": 30,
     "metadata": {},
     "output_type": "execute_result"
    }
   ],
   "source": [
    "sample_matrix[2][3] #index always starts from 0; essentially 3rd row and 4th col intersection index's element"
   ]
  },
  {
   "cell_type": "code",
   "execution_count": 31,
   "id": "b320b949-3e6d-4598-8604-81712cfea9b2",
   "metadata": {},
   "outputs": [
    {
     "data": {
      "text/plain": [
       "array([56, 76, 24,  7])"
      ]
     },
     "execution_count": 31,
     "metadata": {},
     "output_type": "execute_result"
    }
   ],
   "source": [
    "sample_matrix[2,:] #3rd row; all columns "
   ]
  },
  {
   "cell_type": "code",
   "execution_count": 32,
   "id": "785e2080-3d2a-4de8-8b7c-a72409d76fc6",
   "metadata": {},
   "outputs": [
    {
     "data": {
      "text/plain": [
       "array([56, 76, 24,  7])"
      ]
     },
     "execution_count": 32,
     "metadata": {},
     "output_type": "execute_result"
    }
   ],
   "source": [
    "sample_matrix[2]  #3rd row; all columns"
   ]
  },
  {
   "cell_type": "code",
   "execution_count": 33,
   "id": "3c3ab4e5-74da-42c2-a0b5-bdb03f3ad140",
   "metadata": {},
   "outputs": [
    {
     "data": {
      "text/plain": [
       "array([[23,  1],\n",
       "       [33, 21],\n",
       "       [ 7, 24]])"
      ]
     },
     "execution_count": 33,
     "metadata": {},
     "output_type": "execute_result"
    }
   ],
   "source": [
    "sample_matrix[:,(3,2)]   #all rows; (3,2) cols -> 3rd col and the 2nd col"
   ]
  },
  {
   "cell_type": "code",
   "execution_count": 34,
   "id": "7e67d6e5-2566-43bf-b9e4-919c6b417a79",
   "metadata": {},
   "outputs": [
    {
     "data": {
      "text/plain": [
       "array([[ 1, 23],\n",
       "       [21, 33],\n",
       "       [24,  7]])"
      ]
     },
     "execution_count": 34,
     "metadata": {},
     "output_type": "execute_result"
    }
   ],
   "source": [
    "sample_matrix[:,(2,3)]"
   ]
  },
  {
   "cell_type": "code",
   "execution_count": 35,
   "id": "31f6eef2-3eb3-4107-9957-c108cd079755",
   "metadata": {},
   "outputs": [
    {
     "data": {
      "text/plain": [
       "np.int64(33)"
      ]
     },
     "execution_count": 35,
     "metadata": {},
     "output_type": "execute_result"
    }
   ],
   "source": [
    "#if the desired o/p is 33 what shld be the code\n",
    "#method1\n",
    "sample_matrix[1][3]"
   ]
  },
  {
   "cell_type": "code",
   "execution_count": 36,
   "id": "022146f8-3690-4569-b41e-e00a8a9ca013",
   "metadata": {},
   "outputs": [
    {
     "data": {
      "text/plain": [
       "np.int64(33)"
      ]
     },
     "execution_count": 36,
     "metadata": {},
     "output_type": "execute_result"
    }
   ],
   "source": [
    "#method2\n",
    "sample_matrix[1,3]"
   ]
  },
  {
   "cell_type": "code",
   "execution_count": 38,
   "id": "58137a29-6cc0-4667-9b80-041b986866de",
   "metadata": {},
   "outputs": [
    {
     "data": {
      "text/plain": [
       "array([ 1, 21])"
      ]
     },
     "execution_count": 38,
     "metadata": {},
     "output_type": "execute_result"
    }
   ],
   "source": [
    "#if the desired o/p is 1 and 21 what shld be the code\n",
    "sample_matrix[(0,1),2]"
   ]
  },
  {
   "cell_type": "code",
   "execution_count": 40,
   "id": "0d951f3f-583a-4f2a-acd1-a646ee3e3920",
   "metadata": {},
   "outputs": [
    {
     "data": {
      "text/plain": [
       "array([ 1, 21])"
      ]
     },
     "execution_count": 40,
     "metadata": {},
     "output_type": "execute_result"
    }
   ],
   "source": [
    "sample_matrix[0:2,2]"
   ]
  },
  {
   "cell_type": "code",
   "execution_count": 41,
   "id": "7fdd3c90-6f83-4831-b0dd-d9225be2bcc0",
   "metadata": {},
   "outputs": [
    {
     "data": {
      "text/plain": [
       "array([56, 76, 24,  7])"
      ]
     },
     "execution_count": 41,
     "metadata": {},
     "output_type": "execute_result"
    }
   ],
   "source": [
    "sample_matrix[2]"
   ]
  },
  {
   "cell_type": "code",
   "execution_count": 42,
   "id": "31cd82d4-1d01-4d90-8c97-0ce9b72b230f",
   "metadata": {},
   "outputs": [
    {
     "data": {
      "text/plain": [
       "array([[23,  1],\n",
       "       [33, 21],\n",
       "       [ 7, 24]])"
      ]
     },
     "execution_count": 42,
     "metadata": {},
     "output_type": "execute_result"
    }
   ],
   "source": [
    "sample_matrix[:,(3,2)]"
   ]
  },
  {
   "cell_type": "code",
   "execution_count": 43,
   "id": "20ae1b01-3dec-4668-8ac3-d34343e281cb",
   "metadata": {},
   "outputs": [],
   "source": [
    "sample_matrix=np.arange(1,21)"
   ]
  },
  {
   "cell_type": "code",
   "execution_count": 44,
   "id": "c4467aec-ffc2-4c87-bf99-39599707a7a1",
   "metadata": {},
   "outputs": [
    {
     "data": {
      "text/plain": [
       "array([ 1,  2,  3,  4,  5,  6,  7,  8,  9, 10, 11, 12, 13, 14, 15, 16, 17,\n",
       "       18, 19, 20])"
      ]
     },
     "execution_count": 44,
     "metadata": {},
     "output_type": "execute_result"
    }
   ],
   "source": [
    "sample_matrix"
   ]
  },
  {
   "cell_type": "code",
   "execution_count": 45,
   "id": "f92f1220-6e12-4ca2-9d70-4bd5aa4f1574",
   "metadata": {},
   "outputs": [
    {
     "data": {
      "text/plain": [
       "array([ 1,  2,  3,  4,  5,  6,  7,  8,  9, 10, 11, 12, 13, 14, 15, 16, 17,\n",
       "       18, 19, 20])"
      ]
     },
     "execution_count": 45,
     "metadata": {},
     "output_type": "execute_result"
    }
   ],
   "source": [
    "sample_matrix+sample_matrix\n",
    "sample_matrix"
   ]
  },
  {
   "cell_type": "code",
   "execution_count": 46,
   "id": "acd5643b-ff25-47df-a7b5-b3e419964036",
   "metadata": {},
   "outputs": [
    {
     "data": {
      "text/plain": [
       "array([2.71828183e+00, 7.38905610e+00, 2.00855369e+01, 5.45981500e+01,\n",
       "       1.48413159e+02, 4.03428793e+02, 1.09663316e+03, 2.98095799e+03,\n",
       "       8.10308393e+03, 2.20264658e+04, 5.98741417e+04, 1.62754791e+05,\n",
       "       4.42413392e+05, 1.20260428e+06, 3.26901737e+06, 8.88611052e+06,\n",
       "       2.41549528e+07, 6.56599691e+07, 1.78482301e+08, 4.85165195e+08])"
      ]
     },
     "execution_count": 46,
     "metadata": {},
     "output_type": "execute_result"
    }
   ],
   "source": [
    "np.exp(sample_matrix)"
   ]
  },
  {
   "cell_type": "code",
   "execution_count": 47,
   "id": "aab5399e-db47-47bb-84ce-3d188c4589ac",
   "metadata": {},
   "outputs": [
    {
     "data": {
      "text/plain": [
       "array([1.        , 1.41421356, 1.73205081, 2.        , 2.23606798,\n",
       "       2.44948974, 2.64575131, 2.82842712, 3.        , 3.16227766,\n",
       "       3.31662479, 3.46410162, 3.60555128, 3.74165739, 3.87298335,\n",
       "       4.        , 4.12310563, 4.24264069, 4.35889894, 4.47213595])"
      ]
     },
     "execution_count": 47,
     "metadata": {},
     "output_type": "execute_result"
    }
   ],
   "source": [
    "np.sqrt(sample_matrix)"
   ]
  },
  {
   "cell_type": "code",
   "execution_count": 48,
   "id": "3a99af5d-6066-4abf-a7d5-4ad628b51b56",
   "metadata": {},
   "outputs": [
    {
     "data": {
      "text/plain": [
       "array([0.        , 0.69314718, 1.09861229, 1.38629436, 1.60943791,\n",
       "       1.79175947, 1.94591015, 2.07944154, 2.19722458, 2.30258509,\n",
       "       2.39789527, 2.48490665, 2.56494936, 2.63905733, 2.7080502 ,\n",
       "       2.77258872, 2.83321334, 2.89037176, 2.94443898, 2.99573227])"
      ]
     },
     "execution_count": 48,
     "metadata": {},
     "output_type": "execute_result"
    }
   ],
   "source": [
    "np.log(sample_matrix)"
   ]
  },
  {
   "cell_type": "code",
   "execution_count": 50,
   "id": "97ddedff-c584-45be-8714-4cd4a71fc048",
   "metadata": {},
   "outputs": [
    {
     "data": {
      "text/plain": [
       "np.int64(1)"
      ]
     },
     "execution_count": 50,
     "metadata": {},
     "output_type": "execute_result"
    }
   ],
   "source": [
    "np.min(sample_matrix)"
   ]
  },
  {
   "cell_type": "code",
   "execution_count": 51,
   "id": "121cafe0-487b-45bc-b548-f382ad983965",
   "metadata": {},
   "outputs": [
    {
     "data": {
      "text/plain": [
       "np.int64(20)"
      ]
     },
     "execution_count": 51,
     "metadata": {},
     "output_type": "execute_result"
    }
   ],
   "source": [
    "np.max(sample_matrix)"
   ]
  },
  {
   "cell_type": "code",
   "execution_count": 52,
   "id": "85a3b9bb-5044-42d0-be13-e38a976a0870",
   "metadata": {},
   "outputs": [
    {
     "data": {
      "text/plain": [
       "np.int64(19)"
      ]
     },
     "execution_count": 52,
     "metadata": {},
     "output_type": "execute_result"
    }
   ],
   "source": [
    "np.argmax(sample_matrix)"
   ]
  },
  {
   "cell_type": "code",
   "execution_count": 53,
   "id": "556a48ed-4eb1-4b27-bc28-9e5c01615d8f",
   "metadata": {},
   "outputs": [
    {
     "data": {
      "text/plain": [
       "np.int64(0)"
      ]
     },
     "execution_count": 53,
     "metadata": {},
     "output_type": "execute_result"
    }
   ],
   "source": [
    "np.argmin(sample_matrix)"
   ]
  },
  {
   "cell_type": "code",
   "execution_count": 54,
   "id": "59cb1355-0b97-49ba-a82d-2562eaa5761c",
   "metadata": {},
   "outputs": [
    {
     "data": {
      "text/plain": [
       "array([  1,   4,   9,  16,  25,  36,  49,  64,  81, 100, 121, 144, 169,\n",
       "       196, 225, 256, 289, 324, 361, 400])"
      ]
     },
     "execution_count": 54,
     "metadata": {},
     "output_type": "execute_result"
    }
   ],
   "source": [
    "np.square(sample_matrix)"
   ]
  },
  {
   "cell_type": "code",
   "execution_count": 55,
   "id": "9440e769-aebd-428b-a770-9e9d67775a5e",
   "metadata": {},
   "outputs": [
    {
     "data": {
      "text/plain": [
       "np.float64(5.766281297335398)"
      ]
     },
     "execution_count": 55,
     "metadata": {},
     "output_type": "execute_result"
    }
   ],
   "source": [
    "np.std(sample_matrix)"
   ]
  },
  {
   "cell_type": "code",
   "execution_count": 56,
   "id": "a2071c6a-64c1-4085-b81c-b96709c56809",
   "metadata": {},
   "outputs": [
    {
     "data": {
      "text/plain": [
       "np.float64(33.25)"
      ]
     },
     "execution_count": 56,
     "metadata": {},
     "output_type": "execute_result"
    }
   ],
   "source": [
    "np.var(sample_matrix)"
   ]
  },
  {
   "cell_type": "code",
   "execution_count": 57,
   "id": "f354c465-4d1a-44d6-877a-cfc9348060ec",
   "metadata": {},
   "outputs": [
    {
     "data": {
      "text/plain": [
       "np.float64(10.5)"
      ]
     },
     "execution_count": 57,
     "metadata": {},
     "output_type": "execute_result"
    }
   ],
   "source": [
    "np.mean(sample_matrix)"
   ]
  },
  {
   "cell_type": "code",
   "execution_count": 59,
   "id": "4db37aa9-3f25-4272-9c73-3d9b35e2c684",
   "metadata": {},
   "outputs": [
    {
     "data": {
      "text/plain": [
       "array([[ 1.26019305, -0.11879118,  0.46589052, -0.16346927],\n",
       "       [ 0.82414263, -0.21123769,  0.7216653 ,  0.15599962],\n",
       "       [ 0.05323249,  3.16910545,  0.56989191,  0.12197766]])"
      ]
     },
     "execution_count": 59,
     "metadata": {},
     "output_type": "execute_result"
    }
   ],
   "source": [
    "array=np.random.randn(3,4) #normal distribution\n",
    "array"
   ]
  },
  {
   "cell_type": "code",
   "execution_count": 60,
   "id": "5b260508-3a8b-4f57-945e-8df115187370",
   "metadata": {},
   "outputs": [
    {
     "data": {
      "text/plain": [
       "array([[ 1.26 , -0.119,  0.466, -0.163],\n",
       "       [ 0.824, -0.211,  0.722,  0.156],\n",
       "       [ 0.053,  3.169,  0.57 ,  0.122]])"
      ]
     },
     "execution_count": 60,
     "metadata": {},
     "output_type": "execute_result"
    }
   ],
   "source": [
    "np.round(array,decimals=3)"
   ]
  },
  {
   "cell_type": "code",
   "execution_count": 62,
   "id": "fe876dc3-d1e1-4ed1-a2f7-f248ddca5255",
   "metadata": {},
   "outputs": [
    {
     "data": {
      "text/plain": [
       "array(['golf', 'cricket', 'fball', 'cricket', 'fball', 'basketball'],\n",
       "      dtype='<U10')"
      ]
     },
     "execution_count": 62,
     "metadata": {},
     "output_type": "execute_result"
    }
   ],
   "source": [
    "sports=np.array(['golf','cricket','fball','cricket','fball','basketball'])\n",
    "sports"
   ]
  },
  {
   "cell_type": "code",
   "execution_count": 64,
   "id": "4f0f71fb-a0fb-4a65-9ab4-74960ef50993",
   "metadata": {},
   "outputs": [
    {
     "data": {
      "text/plain": [
       "array(['basketball', 'cricket', 'fball', 'golf'], dtype='<U10')"
      ]
     },
     "execution_count": 64,
     "metadata": {},
     "output_type": "execute_result"
    }
   ],
   "source": [
    "np.unique(sports) # dtype='<U10'  -> maximum characters"
   ]
  }
 ],
 "metadata": {
  "kernelspec": {
   "display_name": "Python 3 (ipykernel)",
   "language": "python",
   "name": "python3"
  },
  "language_info": {
   "codemirror_mode": {
    "name": "ipython",
    "version": 3
   },
   "file_extension": ".py",
   "mimetype": "text/x-python",
   "name": "python",
   "nbconvert_exporter": "python",
   "pygments_lexer": "ipython3",
   "version": "3.12.5"
  }
 },
 "nbformat": 4,
 "nbformat_minor": 5
}
