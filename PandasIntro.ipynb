{
 "cells": [
  {
   "cell_type": "code",
   "execution_count": 1,
   "id": "803d594c-da21-4ad4-9577-be2c1372bbd2",
   "metadata": {},
   "outputs": [],
   "source": [
    "import numpy as np\n",
    "import pandas as pd"
   ]
  },
  {
   "cell_type": "code",
   "execution_count": 5,
   "id": "a1c0ffd9-83f8-4fa0-818c-0324a852f420",
   "metadata": {},
   "outputs": [],
   "source": [
    "labels=['w','x','y','z']\n",
    "sample_list=[100,200,300,400]\n",
    "array=np.array([1,2,3,4])\n",
    "dict={'w':10, 'x':20, 'y':30, 'z':40}"
   ]
  },
  {
   "cell_type": "markdown",
   "id": "ac0b939c-aee4-4c3c-9fa4-772d01ba849b",
   "metadata": {},
   "source": [
    "pd.series(data=array) #case sensitive; Series not series"
   ]
  },
  {
   "cell_type": "markdown",
   "id": "b45ae48d-6d9c-4bf7-b0ad-ca37e2189969",
   "metadata": {},
   "source": [
    "### pd.Series -> Unidimensional data or only one column is there "
   ]
  },
  {
   "cell_type": "markdown",
   "id": "7a8eaadf-d7a6-44fb-8f5b-30f26154edf7",
   "metadata": {},
   "source": [
    "### pd.DataFrame -> Two dimensiona data"
   ]
  },
  {
   "cell_type": "code",
   "execution_count": 9,
   "id": "f52ee6ac-b724-40a3-bfc2-acb402166503",
   "metadata": {},
   "outputs": [
    {
     "data": {
      "text/plain": [
       "0    1\n",
       "1    2\n",
       "2    3\n",
       "3    4\n",
       "dtype: int64"
      ]
     },
     "execution_count": 9,
     "metadata": {},
     "output_type": "execute_result"
    }
   ],
   "source": [
    "pd.Series(data=array)"
   ]
  },
  {
   "cell_type": "code",
   "execution_count": 10,
   "id": "ba93f8bf-5a27-4c9c-815c-2afe05c605a8",
   "metadata": {},
   "outputs": [
    {
     "data": {
      "text/plain": [
       "w    100\n",
       "x    200\n",
       "y    300\n",
       "z    400\n",
       "dtype: int64"
      ]
     },
     "execution_count": 10,
     "metadata": {},
     "output_type": "execute_result"
    }
   ],
   "source": [
    "pd.Series(data=sample_list, index=labels)"
   ]
  },
  {
   "cell_type": "code",
   "execution_count": 12,
   "id": "4ecfff2d-5f4f-4a8d-bb5e-122141205c29",
   "metadata": {},
   "outputs": [
    {
     "data": {
      "text/plain": [
       "0    100\n",
       "1    200\n",
       "2    300\n",
       "3    400\n",
       "dtype: int64"
      ]
     },
     "execution_count": 12,
     "metadata": {},
     "output_type": "execute_result"
    }
   ],
   "source": [
    "pd.Series(data=sample_list)"
   ]
  },
  {
   "cell_type": "code",
   "execution_count": 18,
   "id": "48ab5341-3a72-4780-9c8d-27ad0a954872",
   "metadata": {},
   "outputs": [
    {
     "data": {
      "text/plain": [
       "0    w\n",
       "1    x\n",
       "2    y\n",
       "3    z\n",
       "dtype: object"
      ]
     },
     "execution_count": 18,
     "metadata": {},
     "output_type": "execute_result"
    }
   ],
   "source": [
    "pd.Series(data=labels)       #0,1,2,3-> defaultindex"
   ]
  },
  {
   "cell_type": "code",
   "execution_count": 19,
   "id": "8dad50ec-99c9-4e57-86a4-960120377f81",
   "metadata": {},
   "outputs": [
    {
     "data": {
      "text/plain": [
       "0    100\n",
       "1    200\n",
       "2    300\n",
       "3    400\n",
       "dtype: int64"
      ]
     },
     "execution_count": 19,
     "metadata": {},
     "output_type": "execute_result"
    }
   ],
   "source": [
    "pd.Series(data=sample_list)"
   ]
  }
 ],
 "metadata": {
  "kernelspec": {
   "display_name": "Python 3 (ipykernel)",
   "language": "python",
   "name": "python3"
  },
  "language_info": {
   "codemirror_mode": {
    "name": "ipython",
    "version": 3
   },
   "file_extension": ".py",
   "mimetype": "text/x-python",
   "name": "python",
   "nbconvert_exporter": "python",
   "pygments_lexer": "ipython3",
   "version": "3.12.5"
  }
 },
 "nbformat": 4,
 "nbformat_minor": 5
}
