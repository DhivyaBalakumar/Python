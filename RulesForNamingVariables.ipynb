{
 "cells": [
  {
   "cell_type": "markdown",
   "id": "0e06fdc1-869d-4a5d-b5d0-8423ce83c8d3",
   "metadata": {},
   "source": [
    "### what are Variables?\n",
    "### Variables are containers for storing values.\n",
    "### Python has no command for declaring the variables.\n",
    "### When you assign a value, a variable is created.\n",
    "### Rules for declaring variable:\n",
    "### A variable name must start with a letter or underscore character\n",
    "### A variable name cannot start with a number\n",
    "### A variable name can only contain alpha-numeric characters and underscores (A-z, 0-9, and _ )\n",
    "### Variable names are case-sensitive (age, Age and AGE are three different variables)¶"
   ]
  },
  {
   "cell_type": "code",
   "execution_count": 5,
   "id": "5adcf6e6-1e60-4576-9119-88548c5a0423",
   "metadata": {},
   "outputs": [
    {
     "data": {
      "text/plain": [
       "5"
      ]
     },
     "execution_count": 5,
     "metadata": {},
     "output_type": "execute_result"
    }
   ],
   "source": [
    "### Declaring a Variable\n",
    "x=5\n",
    "\n",
    "x"
   ]
  },
  {
   "cell_type": "code",
   "execution_count": 6,
   "id": "cd589525-ac64-4f3a-8eeb-85be487ac0b0",
   "metadata": {},
   "outputs": [
    {
     "data": {
      "text/plain": [
       "'Python'"
      ]
     },
     "execution_count": 6,
     "metadata": {},
     "output_type": "execute_result"
    }
   ],
   "source": [
    "Name=\"Python\" ## satisfy the rules\n",
    "Name"
   ]
  },
  {
   "cell_type": "code",
   "execution_count": 7,
   "id": "144c5e25-7f61-427c-873b-e4d781eb2cf8",
   "metadata": {},
   "outputs": [
    {
     "data": {
      "text/plain": [
       "'Python'"
      ]
     },
     "execution_count": 7,
     "metadata": {},
     "output_type": "execute_result"
    }
   ],
   "source": [
    "name_123=\"Python\"\n",
    "name_123"
   ]
  },
  {
   "cell_type": "code",
   "execution_count": 8,
   "id": "16a74558-1317-4723-8ede-b5b02e1c51b3",
   "metadata": {},
   "outputs": [
    {
     "ename": "NameError",
     "evalue": "name 'name' is not defined",
     "output_type": "error",
     "traceback": [
      "\u001b[1;31m---------------------------------------------------------------------------\u001b[0m",
      "\u001b[1;31mNameError\u001b[0m                                 Traceback (most recent call last)",
      "Cell \u001b[1;32mIn[8], line 1\u001b[0m\n\u001b[1;32m----> 1\u001b[0m \u001b[43mname\u001b[49m \u001b[38;5;66;03m### case sensitive\u001b[39;00m\n",
      "\u001b[1;31mNameError\u001b[0m: name 'name' is not defined"
     ]
    }
   ],
   "source": [
    "name ### case sensitive"
   ]
  },
  {
   "cell_type": "code",
   "execution_count": 9,
   "id": "1318cc30-84d6-4d10-b97d-e9420f43174e",
   "metadata": {},
   "outputs": [
    {
     "data": {
      "text/plain": [
       "'Python'"
      ]
     },
     "execution_count": 9,
     "metadata": {},
     "output_type": "execute_result"
    }
   ],
   "source": [
    "Name_2nick=\"Python\"\n",
    "Name_2nick"
   ]
  },
  {
   "cell_type": "code",
   "execution_count": 10,
   "id": "5d68e8b3-5c28-465c-973f-6511436a84b5",
   "metadata": {},
   "outputs": [
    {
     "data": {
      "text/plain": [
       "'Python'"
      ]
     },
     "execution_count": 10,
     "metadata": {},
     "output_type": "execute_result"
    }
   ],
   "source": [
    "_Nickname=\"Python\"\n",
    "_Nickname"
   ]
  },
  {
   "cell_type": "code",
   "execution_count": 11,
   "id": "71925518-ed57-42fb-86b6-c0290befb260",
   "metadata": {},
   "outputs": [
    {
     "ename": "SyntaxError",
     "evalue": "invalid decimal literal (2006808468.py, line 1)",
     "output_type": "error",
     "traceback": [
      "\u001b[1;36m  Cell \u001b[1;32mIn[11], line 1\u001b[1;36m\u001b[0m\n\u001b[1;33m    1Nickname=\"Latha\"  ## var should not start with a number\u001b[0m\n\u001b[1;37m    ^\u001b[0m\n\u001b[1;31mSyntaxError\u001b[0m\u001b[1;31m:\u001b[0m invalid decimal literal\n"
     ]
    }
   ],
   "source": [
    "1Nickname=\"Latha\"  ## var should not start with a number"
   ]
  },
  {
   "cell_type": "code",
   "execution_count": 12,
   "id": "88853ae1-8694-461f-8414-58b44450e99f",
   "metadata": {},
   "outputs": [
    {
     "data": {
      "text/plain": [
       "'Python'"
      ]
     },
     "execution_count": 12,
     "metadata": {},
     "output_type": "execute_result"
    }
   ],
   "source": [
    "N1ickname=\"Python\" ### Number can be used in the variable other than the first character\n",
    "N1ickname"
   ]
  },
  {
   "cell_type": "code",
   "execution_count": 13,
   "id": "766740b2-3f69-4ee5-a7ba-9f9e035fa74f",
   "metadata": {},
   "outputs": [
    {
     "ename": "SyntaxError",
     "evalue": "cannot assign to expression here. Maybe you meant '==' instead of '='? (3238228114.py, line 1)",
     "output_type": "error",
     "traceback": [
      "\u001b[1;36m  Cell \u001b[1;32mIn[13], line 1\u001b[1;36m\u001b[0m\n\u001b[1;33m    Nick*name=\"Python\" ### No spl character is allowed other than underscore\u001b[0m\n\u001b[1;37m    ^\u001b[0m\n\u001b[1;31mSyntaxError\u001b[0m\u001b[1;31m:\u001b[0m cannot assign to expression here. Maybe you meant '==' instead of '='?\n"
     ]
    }
   ],
   "source": [
    "Nick*name=\"Python\" ### No spl character is allowed other than underscore"
   ]
  },
  {
   "cell_type": "code",
   "execution_count": 14,
   "id": "02808374-ea38-44f0-9352-570c11ca2106",
   "metadata": {},
   "outputs": [
    {
     "ename": "SyntaxError",
     "evalue": "cannot assign to expression here. Maybe you meant '==' instead of '='? (90787822.py, line 1)",
     "output_type": "error",
     "traceback": [
      "\u001b[1;36m  Cell \u001b[1;32mIn[14], line 1\u001b[1;36m\u001b[0m\n\u001b[1;33m    Nick@name=\"Python\" ### No spl character is allowed other than underscore\u001b[0m\n\u001b[1;37m    ^\u001b[0m\n\u001b[1;31mSyntaxError\u001b[0m\u001b[1;31m:\u001b[0m cannot assign to expression here. Maybe you meant '==' instead of '='?\n"
     ]
    }
   ],
   "source": [
    "Nick@name=\"Python\" ### No spl character is allowed other than underscore"
   ]
  },
  {
   "cell_type": "code",
   "execution_count": 15,
   "id": "efa074c7-fd0a-433e-96c3-16a70d6c45bc",
   "metadata": {},
   "outputs": [
    {
     "data": {
      "text/plain": [
       "23"
      ]
     },
     "execution_count": 15,
     "metadata": {},
     "output_type": "execute_result"
    }
   ],
   "source": [
    "age=23\n",
    "age"
   ]
  },
  {
   "cell_type": "code",
   "execution_count": 16,
   "id": "8e7ef48f-907b-486e-bf47-5b4aa2dcc19f",
   "metadata": {},
   "outputs": [
    {
     "ename": "NameError",
     "evalue": "name 'Age' is not defined",
     "output_type": "error",
     "traceback": [
      "\u001b[1;31m---------------------------------------------------------------------------\u001b[0m",
      "\u001b[1;31mNameError\u001b[0m                                 Traceback (most recent call last)",
      "Cell \u001b[1;32mIn[16], line 1\u001b[0m\n\u001b[1;32m----> 1\u001b[0m \u001b[43mAge\u001b[49m \u001b[38;5;66;03m### case sensitive\u001b[39;00m\n",
      "\u001b[1;31mNameError\u001b[0m: name 'Age' is not defined"
     ]
    }
   ],
   "source": [
    "Age ### case sensitive"
   ]
  },
  {
   "cell_type": "code",
   "execution_count": 17,
   "id": "2aac053d-1ed3-4d79-9fc1-5f353b1bf392",
   "metadata": {},
   "outputs": [
    {
     "ename": "NameError",
     "evalue": "name 'AGE' is not defined",
     "output_type": "error",
     "traceback": [
      "\u001b[1;31m---------------------------------------------------------------------------\u001b[0m",
      "\u001b[1;31mNameError\u001b[0m                                 Traceback (most recent call last)",
      "Cell \u001b[1;32mIn[17], line 1\u001b[0m\n\u001b[1;32m----> 1\u001b[0m \u001b[43mAGE\u001b[49m \u001b[38;5;66;03m### case sensitive\u001b[39;00m\n",
      "\u001b[1;31mNameError\u001b[0m: name 'AGE' is not defined"
     ]
    }
   ],
   "source": [
    "AGE ### case sensitive"
   ]
  }
 ],
 "metadata": {
  "kernelspec": {
   "display_name": "Python 3 (ipykernel)",
   "language": "python",
   "name": "python3"
  },
  "language_info": {
   "codemirror_mode": {
    "name": "ipython",
    "version": 3
   },
   "file_extension": ".py",
   "mimetype": "text/x-python",
   "name": "python",
   "nbconvert_exporter": "python",
   "pygments_lexer": "ipython3",
   "version": "3.12.5"
  }
 },
 "nbformat": 4,
 "nbformat_minor": 5
}
