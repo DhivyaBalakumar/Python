{
 "cells": [
  {
   "cell_type": "markdown",
   "id": "a32425d1-5d0b-4f27-84d0-8368d0d7ec0d",
   "metadata": {},
   "source": [
    "### Type Conversion"
   ]
  },
  {
   "cell_type": "markdown",
   "id": "5f68c1ca-a800-4562-bb2a-002c76fcb19c",
   "metadata": {},
   "source": [
    "### Implicit Conversion-Conversion done without Programmer's intervention"
   ]
  },
  {
   "cell_type": "markdown",
   "id": "e3ee016c-e933-4648-bac3-5e5f93074814",
   "metadata": {},
   "source": [
    "### Explicit Conversion -user fefined that forces conversion"
   ]
  },
  {
   "cell_type": "code",
   "execution_count": 1,
   "id": "66ca1ac4-b642-42c0-baed-5e4c5f7cf8e9",
   "metadata": {},
   "outputs": [
    {
     "name": "stdout",
     "output_type": "stream",
     "text": [
      "112.5\n"
     ]
    },
    {
     "data": {
      "text/plain": [
       "float"
      ]
     },
     "execution_count": 1,
     "metadata": {},
     "output_type": "execute_result"
    }
   ],
   "source": [
    "### implicit\n",
    "price=22.5\n",
    "units=5\n",
    "total=price*units\n",
    "print(total)\n",
    "type(total)"
   ]
  },
  {
   "cell_type": "code",
   "execution_count": 2,
   "id": "9c45e446-432b-49b7-af07-7d891df455c6",
   "metadata": {},
   "outputs": [
    {
     "ename": "TypeError",
     "evalue": "unsupported operand type(s) for +: 'int' and 'str'",
     "output_type": "error",
     "traceback": [
      "\u001b[1;31m---------------------------------------------------------------------------\u001b[0m",
      "\u001b[1;31mTypeError\u001b[0m                                 Traceback (most recent call last)",
      "Cell \u001b[1;32mIn[2], line 4\u001b[0m\n\u001b[0;32m      2\u001b[0m income\u001b[38;5;241m=\u001b[39m\u001b[38;5;241m10000\u001b[39m\n\u001b[0;32m      3\u001b[0m tax\u001b[38;5;241m=\u001b[39m\u001b[38;5;124m\"\u001b[39m\u001b[38;5;124m123.5\u001b[39m\u001b[38;5;124m\"\u001b[39m\n\u001b[1;32m----> 4\u001b[0m total\u001b[38;5;241m=\u001b[39m\u001b[43mincome\u001b[49m\u001b[38;5;241;43m+\u001b[39;49m\u001b[43mtax\u001b[49m\n\u001b[0;32m      5\u001b[0m \u001b[38;5;28mprint\u001b[39m(total)\n",
      "\u001b[1;31mTypeError\u001b[0m: unsupported operand type(s) for +: 'int' and 'str'"
     ]
    }
   ],
   "source": [
    "### explicit\n",
    "income=10000\n",
    "tax=\"123.5\"\n",
    "total=income+tax\n",
    "print(total)"
   ]
  },
  {
   "cell_type": "code",
   "execution_count": 3,
   "id": "f52fab28-cc9e-4dff-b6f2-8d030349cf1f",
   "metadata": {},
   "outputs": [
    {
     "name": "stdout",
     "output_type": "stream",
     "text": [
      "10123.5\n"
     ]
    }
   ],
   "source": [
    "income=10000\n",
    "tax=\"123.5\"\n",
    "total=income+float(tax)\n",
    "print(total)"
   ]
  },
  {
   "cell_type": "code",
   "execution_count": 10,
   "id": "6bc60c00-ac9c-4f68-91aa-9b8800d3e092",
   "metadata": {},
   "outputs": [],
   "source": [
    "### Type casting\n",
    "### int()\n",
    "### float()\n",
    "### bool()\n",
    "### str"
   ]
  },
  {
   "cell_type": "markdown",
   "id": "041fc61a-bc02-4b3c-ba7c-f65d27d59a2b",
   "metadata": {},
   "source": [
    "### int to other type conversion"
   ]
  },
  {
   "cell_type": "code",
   "execution_count": 12,
   "id": "1fce70e9-e5aa-4b30-b25c-7932ab8e86d9",
   "metadata": {},
   "outputs": [
    {
     "data": {
      "text/plain": [
       "12.0"
      ]
     },
     "execution_count": 12,
     "metadata": {},
     "output_type": "execute_result"
    }
   ],
   "source": [
    "x=12\n",
    "float(x)"
   ]
  },
  {
   "cell_type": "code",
   "execution_count": 13,
   "id": "f419827b-b979-421d-b54d-5f623fc66816",
   "metadata": {},
   "outputs": [
    {
     "data": {
      "text/plain": [
       "True"
      ]
     },
     "execution_count": 13,
     "metadata": {},
     "output_type": "execute_result"
    }
   ],
   "source": [
    "bool(x)"
   ]
  },
  {
   "cell_type": "code",
   "execution_count": 14,
   "id": "4befdf41-769d-4018-adc9-e9e2d74e9be9",
   "metadata": {},
   "outputs": [
    {
     "data": {
      "text/plain": [
       "'12'"
      ]
     },
     "execution_count": 14,
     "metadata": {},
     "output_type": "execute_result"
    }
   ],
   "source": [
    "str(x)"
   ]
  },
  {
   "cell_type": "markdown",
   "id": "2778387a-2e71-43b2-ab9e-224ad6b3ded9",
   "metadata": {},
   "source": [
    "### float to other type conversion"
   ]
  },
  {
   "cell_type": "code",
   "execution_count": 15,
   "id": "3713bddb-184b-4447-bcc1-8dfc373fa3c2",
   "metadata": {},
   "outputs": [
    {
     "data": {
      "text/plain": [
       "12"
      ]
     },
     "execution_count": 15,
     "metadata": {},
     "output_type": "execute_result"
    }
   ],
   "source": [
    "y=12.9\n",
    "int(y)"
   ]
  },
  {
   "cell_type": "code",
   "execution_count": 16,
   "id": "e1907bfd-6c70-4ee4-a38b-66b5eddee86a",
   "metadata": {},
   "outputs": [
    {
     "data": {
      "text/plain": [
       "True"
      ]
     },
     "execution_count": 16,
     "metadata": {},
     "output_type": "execute_result"
    }
   ],
   "source": [
    "bool(y)"
   ]
  },
  {
   "cell_type": "code",
   "execution_count": 17,
   "id": "2d5ac2b3-16c3-446e-94c3-d8e0936806df",
   "metadata": {},
   "outputs": [
    {
     "data": {
      "text/plain": [
       "'12.9'"
      ]
     },
     "execution_count": 17,
     "metadata": {},
     "output_type": "execute_result"
    }
   ],
   "source": [
    "str(y)"
   ]
  },
  {
   "cell_type": "markdown",
   "id": "0f597ddd-d43c-4f0b-b4bc-5ad0d62e95a6",
   "metadata": {},
   "source": [
    "### string to other type conversion"
   ]
  },
  {
   "cell_type": "code",
   "execution_count": 18,
   "id": "9e6559e7-d207-460c-8419-fa6fdb4b60de",
   "metadata": {},
   "outputs": [],
   "source": [
    "z=\"python\""
   ]
  },
  {
   "cell_type": "code",
   "execution_count": 19,
   "id": "55e232b2-ab04-4e56-bdd4-17c9521f367b",
   "metadata": {},
   "outputs": [
    {
     "ename": "ValueError",
     "evalue": "invalid literal for int() with base 10: 'python'",
     "output_type": "error",
     "traceback": [
      "\u001b[1;31m---------------------------------------------------------------------------\u001b[0m",
      "\u001b[1;31mValueError\u001b[0m                                Traceback (most recent call last)",
      "Cell \u001b[1;32mIn[19], line 1\u001b[0m\n\u001b[1;32m----> 1\u001b[0m \u001b[38;5;28;43mint\u001b[39;49m\u001b[43m(\u001b[49m\u001b[43mz\u001b[49m\u001b[43m)\u001b[49m\n",
      "\u001b[1;31mValueError\u001b[0m: invalid literal for int() with base 10: 'python'"
     ]
    }
   ],
   "source": [
    "int(z)"
   ]
  },
  {
   "cell_type": "code",
   "execution_count": 20,
   "id": "236040ad-83f7-4535-94ce-20150b7e165a",
   "metadata": {},
   "outputs": [
    {
     "ename": "ValueError",
     "evalue": "could not convert string to float: 'python'",
     "output_type": "error",
     "traceback": [
      "\u001b[1;31m---------------------------------------------------------------------------\u001b[0m",
      "\u001b[1;31mValueError\u001b[0m                                Traceback (most recent call last)",
      "Cell \u001b[1;32mIn[20], line 1\u001b[0m\n\u001b[1;32m----> 1\u001b[0m \u001b[38;5;28;43mfloat\u001b[39;49m\u001b[43m(\u001b[49m\u001b[43mz\u001b[49m\u001b[43m)\u001b[49m\n",
      "\u001b[1;31mValueError\u001b[0m: could not convert string to float: 'python'"
     ]
    }
   ],
   "source": [
    "float(z)"
   ]
  },
  {
   "cell_type": "markdown",
   "id": "9592db9e-59ca-4353-97d5-f2325d7009d2",
   "metadata": {},
   "source": [
    "### bool to other data types"
   ]
  },
  {
   "cell_type": "code",
   "execution_count": 21,
   "id": "dd1ad99b-2888-4d4b-a59f-6125e966e188",
   "metadata": {},
   "outputs": [
    {
     "data": {
      "text/plain": [
       "True"
      ]
     },
     "execution_count": 21,
     "metadata": {},
     "output_type": "execute_result"
    }
   ],
   "source": [
    "bool(z)"
   ]
  },
  {
   "cell_type": "code",
   "execution_count": 22,
   "id": "f211dfe6-0a92-4e5d-b151-c14417d99672",
   "metadata": {},
   "outputs": [],
   "source": [
    "a=True"
   ]
  },
  {
   "cell_type": "code",
   "execution_count": 23,
   "id": "a1de54b6-d415-4dd8-a7a8-1cf200cdba0f",
   "metadata": {},
   "outputs": [
    {
     "data": {
      "text/plain": [
       "1.0"
      ]
     },
     "execution_count": 23,
     "metadata": {},
     "output_type": "execute_result"
    }
   ],
   "source": [
    "float(a)"
   ]
  },
  {
   "cell_type": "code",
   "execution_count": 24,
   "id": "fdd3f7e0-9f55-4c81-8aca-cab02d241ef5",
   "metadata": {},
   "outputs": [
    {
     "data": {
      "text/plain": [
       "1"
      ]
     },
     "execution_count": 24,
     "metadata": {},
     "output_type": "execute_result"
    }
   ],
   "source": [
    "int(a)"
   ]
  },
  {
   "cell_type": "code",
   "execution_count": 25,
   "id": "2b25a9f3-143c-4c8f-a7ab-96444b63411a",
   "metadata": {},
   "outputs": [
    {
     "data": {
      "text/plain": [
       "'True'"
      ]
     },
     "execution_count": 25,
     "metadata": {},
     "output_type": "execute_result"
    }
   ],
   "source": [
    "str(a)"
   ]
  },
  {
   "cell_type": "code",
   "execution_count": 26,
   "id": "f94682fe-2615-4ad5-97ed-75d45a8319cf",
   "metadata": {},
   "outputs": [],
   "source": [
    "b=False"
   ]
  },
  {
   "cell_type": "code",
   "execution_count": 27,
   "id": "06c6b44a-1287-4963-a54f-6faf2df1139c",
   "metadata": {},
   "outputs": [
    {
     "data": {
      "text/plain": [
       "0.0"
      ]
     },
     "execution_count": 27,
     "metadata": {},
     "output_type": "execute_result"
    }
   ],
   "source": [
    "float(b)"
   ]
  },
  {
   "cell_type": "code",
   "execution_count": 28,
   "id": "80bb1bd9-dca6-40aa-aca5-eab260df5e57",
   "metadata": {},
   "outputs": [
    {
     "data": {
      "text/plain": [
       "0"
      ]
     },
     "execution_count": 28,
     "metadata": {},
     "output_type": "execute_result"
    }
   ],
   "source": [
    "int(b)"
   ]
  },
  {
   "cell_type": "code",
   "execution_count": 29,
   "id": "e5a8d55f-3fb1-4488-9666-912d73b3096d",
   "metadata": {},
   "outputs": [
    {
     "data": {
      "text/plain": [
       "'False'"
      ]
     },
     "execution_count": 29,
     "metadata": {},
     "output_type": "execute_result"
    }
   ],
   "source": [
    "str(b)"
   ]
  }
 ],
 "metadata": {
  "kernelspec": {
   "display_name": "Python 3 (ipykernel)",
   "language": "python",
   "name": "python3"
  },
  "language_info": {
   "codemirror_mode": {
    "name": "ipython",
    "version": 3
   },
   "file_extension": ".py",
   "mimetype": "text/x-python",
   "name": "python",
   "nbconvert_exporter": "python",
   "pygments_lexer": "ipython3",
   "version": "3.12.5"
  }
 },
 "nbformat": 4,
 "nbformat_minor": 5
}
